{
 "cells": [
  {
   "cell_type": "code",
   "execution_count": 1,
   "metadata": {},
   "outputs": [
    {
     "name": "stdout",
     "output_type": "stream",
     "text": [
      "Date accessed: 2024-10-22 22:58:08\n"
     ]
    }
   ],
   "source": [
    "from datetime import datetime\n",
    "\n",
    "# print date as date accessed\n",
    "date_accessed = datetime.now().strftime(\"%Y-%m-%d %H:%M:%S\")\n",
    "print(f\"Date accessed: {date_accessed}\")"
   ]
  },
  {
   "cell_type": "code",
   "execution_count": 2,
   "metadata": {},
   "outputs": [],
   "source": [
    "import xarray as xr\n",
    "import dask\n",
    "import numpy as np\n",
    "import pandas as pd\n",
    "import matplotlib.pyplot as plt\n",
    "import matplotlib.colors as colors\n",
    "import os, sys, glob, re, time, math, calendar, ast\n",
    "import yaml\n",
    "\n",
    "from pytorch_tabnet.tab_model import TabNetRegressor\n",
    "import pickle\n",
    "from pickle import dump, load\n",
    "import joblib\n",
    "\n",
    "import torch\n",
    "\n",
    "from sklearn.utils import shuffle\n",
    "from sklearn.preprocessing import PolynomialFeatures\n",
    "from sklearn import preprocessing\n",
    "\n",
    "# import custom functions\n",
    "sys.path.append('/')\n",
    "from libraries import *\n",
    "from plotters import *\n",
    "\n",
    "#For reproducibility of the results, the following seeds should be selected \n",
    "randSeed = 42"
   ]
  },
  {
   "cell_type": "code",
   "execution_count": 3,
   "metadata": {},
   "outputs": [
    {
     "ename": "FileNotFoundError",
     "evalue": "[Errno 2] No such file or directory: 'trained_models/ERA5_to_profilers/PROF_QUEE/Averaged_over_55th_to_5th_min/2021_to_2023/segregated/not_transformed/Kho_loss_on_profile/Ens0/trial0/TabNet_HOLDOUT.pkl'",
     "output_type": "error",
     "traceback": [
      "\u001b[0;31m---------------------------------------------------------------------------\u001b[0m",
      "\u001b[0;31mFileNotFoundError\u001b[0m                         Traceback (most recent call last)",
      "Cell \u001b[0;32mIn[3], line 31\u001b[0m\n\u001b[1;32m     29\u001b[0m \u001b[38;5;28;01mfor\u001b[39;00m trial \u001b[38;5;129;01min\u001b[39;00m \u001b[38;5;28mrange\u001b[39m(\u001b[38;5;241m0\u001b[39m,\u001b[38;5;241m100\u001b[39m):\n\u001b[1;32m     30\u001b[0m     fSTR \u001b[38;5;241m=\u001b[39m \u001b[38;5;124mf\u001b[39m\u001b[38;5;124m'\u001b[39m\u001b[38;5;132;01m{\u001b[39;00mmodel_output_dir\u001b[38;5;132;01m}\u001b[39;00m\u001b[38;5;124m/trial\u001b[39m\u001b[38;5;132;01m{\u001b[39;00mtrial\u001b[38;5;132;01m}\u001b[39;00m\u001b[38;5;124m/TabNet_HOLDOUT.pkl\u001b[39m\u001b[38;5;124m'\u001b[39m\n\u001b[0;32m---> 31\u001b[0m     \u001b[38;5;28;01mwith\u001b[39;00m \u001b[38;5;28;43mopen\u001b[39;49m\u001b[43m(\u001b[49m\u001b[43mfSTR\u001b[49m\u001b[43m,\u001b[49m\u001b[43m \u001b[49m\u001b[38;5;124;43m\"\u001b[39;49m\u001b[38;5;124;43mrb\u001b[39;49m\u001b[38;5;124;43m\"\u001b[39;49m\u001b[43m)\u001b[49m \u001b[38;5;28;01mas\u001b[39;00m f:\n\u001b[1;32m     32\u001b[0m         tabReg \u001b[38;5;241m=\u001b[39m pickle\u001b[38;5;241m.\u001b[39mload(f)\n\u001b[1;32m     33\u001b[0m     rmseVal \u001b[38;5;241m=\u001b[39m tabReg\u001b[38;5;241m.\u001b[39mhistory[\u001b[38;5;124m'\u001b[39m\u001b[38;5;124mvalid_rmse\u001b[39m\u001b[38;5;124m'\u001b[39m][tabReg\u001b[38;5;241m.\u001b[39mbest_epoch]\n",
      "File \u001b[0;32m~/miniconda3/envs/TabNet_env/lib/python3.10/site-packages/IPython/core/interactiveshell.py:324\u001b[0m, in \u001b[0;36m_modified_open\u001b[0;34m(file, *args, **kwargs)\u001b[0m\n\u001b[1;32m    317\u001b[0m \u001b[38;5;28;01mif\u001b[39;00m file \u001b[38;5;129;01min\u001b[39;00m {\u001b[38;5;241m0\u001b[39m, \u001b[38;5;241m1\u001b[39m, \u001b[38;5;241m2\u001b[39m}:\n\u001b[1;32m    318\u001b[0m     \u001b[38;5;28;01mraise\u001b[39;00m \u001b[38;5;167;01mValueError\u001b[39;00m(\n\u001b[1;32m    319\u001b[0m         \u001b[38;5;124mf\u001b[39m\u001b[38;5;124m\"\u001b[39m\u001b[38;5;124mIPython won\u001b[39m\u001b[38;5;124m'\u001b[39m\u001b[38;5;124mt let you open fd=\u001b[39m\u001b[38;5;132;01m{\u001b[39;00mfile\u001b[38;5;132;01m}\u001b[39;00m\u001b[38;5;124m by default \u001b[39m\u001b[38;5;124m\"\u001b[39m\n\u001b[1;32m    320\u001b[0m         \u001b[38;5;124m\"\u001b[39m\u001b[38;5;124mas it is likely to crash IPython. If you know what you are doing, \u001b[39m\u001b[38;5;124m\"\u001b[39m\n\u001b[1;32m    321\u001b[0m         \u001b[38;5;124m\"\u001b[39m\u001b[38;5;124myou can use builtins\u001b[39m\u001b[38;5;124m'\u001b[39m\u001b[38;5;124m open.\u001b[39m\u001b[38;5;124m\"\u001b[39m\n\u001b[1;32m    322\u001b[0m     )\n\u001b[0;32m--> 324\u001b[0m \u001b[38;5;28;01mreturn\u001b[39;00m \u001b[43mio_open\u001b[49m\u001b[43m(\u001b[49m\u001b[43mfile\u001b[49m\u001b[43m,\u001b[49m\u001b[43m \u001b[49m\u001b[38;5;241;43m*\u001b[39;49m\u001b[43margs\u001b[49m\u001b[43m,\u001b[49m\u001b[43m \u001b[49m\u001b[38;5;241;43m*\u001b[39;49m\u001b[38;5;241;43m*\u001b[39;49m\u001b[43mkwargs\u001b[49m\u001b[43m)\u001b[49m\n",
      "\u001b[0;31mFileNotFoundError\u001b[0m: [Errno 2] No such file or directory: 'trained_models/ERA5_to_profilers/PROF_QUEE/Averaged_over_55th_to_5th_min/2021_to_2023/segregated/not_transformed/Kho_loss_on_profile/Ens0/trial0/TabNet_HOLDOUT.pkl'"
     ]
    }
   ],
   "source": [
    "sys.argv = ['', 'PROF_QUEE','Averaged_over_55th_to_5th_min', 'segregated', 'not_transformed','Kho_loss_on_profile',0,  42, 0, 80, \"1\"]    # for debugging\n",
    "station_id = sys.argv[1]\n",
    "hourly_data_method = sys.argv[2]\n",
    "train_dates_range = ('2021-01-01T00:00:00', '2023-12-31T23:00:00')\n",
    "\n",
    "# Extract years from the date range\n",
    "start_date = datetime.fromisoformat(train_dates_range[0])\n",
    "end_date = datetime.fromisoformat(train_dates_range[1])\n",
    "# Get the years\n",
    "start_year = start_date.year\n",
    "end_year = end_date.year\n",
    "# Format the folder name\n",
    "if start_year == end_year:\n",
    "    years_experiment = f\"{start_year}\"\n",
    "else:\n",
    "    years_experiment = f\"{start_year}_to_{end_year}\"\n",
    "\n",
    "experiment = f'ERA5_to_profilers'\n",
    "\n",
    "segregated = sys.argv[3]\n",
    "transformed = sys.argv[4]\n",
    "loss_function = sys.argv[5]\n",
    "Ens = int(sys.argv[6])\n",
    "trial = int(sys.argv[8])\n",
    "\n",
    "for Ens in range(0,10):\n",
    "    model_output_dir = f'trained_models/{experiment}/{station_id}/{hourly_data_method}/{years_experiment}/{segregated}/{transformed}/{loss_function}/Ens{Ens}'\n",
    "    valMin = 1e8\n",
    "    for trial in range(0,100):\n",
    "        fSTR = f'{model_output_dir}/trial{trial}/TabNet_HOLDOUT.pkl'\n",
    "        with open(fSTR, \"rb\") as f:\n",
    "            tabReg = pickle.load(f)\n",
    "        rmseVal = tabReg.history['valid_rmse'][tabReg.best_epoch]\n",
    "        if rmseVal < valMin: \n",
    "            valMin = rmseVal\n",
    "            '''\n",
    "            fSTR = f'{model_output_dir}/TabNet_HOLDOUT.pkl'\n",
    "            with open(fSTR, \"wb\") as f:\n",
    "                dump(tabReg, f, pickle.HIGHEST_PROTOCOL)\n",
    "            print('dumped')\n",
    "            '''"
   ]
  },
  {
   "cell_type": "code",
   "execution_count": null,
   "metadata": {},
   "outputs": [],
   "source": []
  }
 ],
 "metadata": {
  "kernelspec": {
   "display_name": "TabNet_env",
   "language": "python",
   "name": "python3"
  },
  "language_info": {
   "codemirror_mode": {
    "name": "ipython",
    "version": 3
   },
   "file_extension": ".py",
   "mimetype": "text/x-python",
   "name": "python",
   "nbconvert_exporter": "python",
   "pygments_lexer": "ipython3",
   "version": "3.10.15"
  }
 },
 "nbformat": 4,
 "nbformat_minor": 2
}
