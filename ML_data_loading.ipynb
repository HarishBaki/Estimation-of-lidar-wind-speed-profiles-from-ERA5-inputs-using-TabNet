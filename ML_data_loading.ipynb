{
 "cells": [
  {
   "cell_type": "code",
   "execution_count": 9,
   "metadata": {},
   "outputs": [
    {
     "name": "stdout",
     "output_type": "stream",
     "text": [
      "Date accessed: 2024-10-15 11:30:18\n"
     ]
    }
   ],
   "source": [
    "from datetime import datetime\n",
    "\n",
    "# print date as date accessed\n",
    "date_accessed = datetime.now().strftime(\"%Y-%m-%d %H:%M:%S\")\n",
    "print(f\"Date accessed: {date_accessed}\")"
   ]
  },
  {
   "cell_type": "code",
   "execution_count": 10,
   "metadata": {},
   "outputs": [],
   "source": [
    "import xarray as xr\n",
    "import dask\n",
    "import numpy as np\n",
    "import pandas as pd\n",
    "import matplotlib.pyplot as plt\n",
    "import matplotlib.colors as colors\n",
    "import os, sys, glob, re, time, math, calendar\n",
    "\n",
    "# import custom functions\n",
    "sys.path.append('/')\n",
    "from libraries import *"
   ]
  },
  {
   "cell_type": "code",
   "execution_count": 15,
   "metadata": {},
   "outputs": [
    {
     "data": {
      "text/plain": [
       "array(['2018-12-31T20:00:00.000000000', '2018-12-31T21:00:00.000000000',\n",
       "       '2018-12-31T22:00:00.000000000', '2018-12-31T23:00:00.000000000',\n",
       "       '2019-01-01T00:00:00.000000000', '2019-01-01T01:00:00.000000000',\n",
       "       '2019-01-01T02:00:00.000000000', '2019-01-01T03:00:00.000000000',\n",
       "       '2019-01-01T04:00:00.000000000', '2019-01-01T05:00:00.000000000'],\n",
       "      dtype='datetime64[ns]')"
      ]
     },
     "execution_count": 15,
     "metadata": {},
     "output_type": "execute_result"
    }
   ],
   "source": [
    "station_id = 'PROF_OWEG'"
   ]
  },
  {
   "cell_type": "markdown",
   "metadata": {},
   "source": [
    "# Checking the data processing script for Profiler Chebyshev coefficients"
   ]
  },
  {
   "cell_type": "code",
   "execution_count": 5,
   "metadata": {},
   "outputs": [
    {
     "name": "stdout",
     "output_type": "stream",
     "text": [
      "2018 (4348, 3) (4348, 5) (1081, 3) (1081, 5)\n",
      "2019 (4237, 3) (4237, 5) (1051, 3) (1051, 5)\n",
      "2020 (4582, 3) (4582, 5) (1139, 3) (1139, 5)\n",
      "2021 (4609, 3) (4609, 5) (1146, 3) (1146, 5)\n",
      "2022 (1779, 3) (1779, 5) (441, 3) (441, 5)\n",
      "2023 (5759, 3) (5759, 5) (1432, 3) (1432, 5)\n"
     ]
    }
   ],
   "source": [
    "input_times_freq = 1\n",
    "for year in range(2018,2024):\n",
    "    dates_range = (f'{year}-01-01T00', f'{year}-12-31T23')\n",
    "    input_variables = ['10ws','100ws','100alpha']\n",
    "    target_variables = [0,1,2,3,4]\n",
    "\n",
    "    X_train, Y_train, X_valid, Y_valid = data_processing('data/ERA5.nc',f'data/Profiler_Chebyshev_Coefficients/{station_id}.nc',\n",
    "                                                        1,input_variables,target_variables,dates_range,station_id,val_arg=True)\n",
    "    print(year, X_train.shape, Y_train.shape, X_valid.shape, Y_valid.shape)"
   ]
  },
  {
   "cell_type": "code",
   "execution_count": 6,
   "metadata": {},
   "outputs": [
    {
     "name": "stdout",
     "output_type": "stream",
     "text": [
      "2018 (5429, 3) (5429, 5)\n",
      "2019 (5288, 3) (5288, 5)\n",
      "2020 (5721, 3) (5721, 5)\n",
      "2021 (5755, 3) (5755, 5)\n",
      "2022 (2220, 3) (2220, 5)\n",
      "2023 (7191, 3) (7191, 5)\n"
     ]
    }
   ],
   "source": [
    "input_times_freq = 1\n",
    "for year in range(2018,2024):\n",
    "    dates_range = (f'{year}-01-01T00', f'{year}-12-31T23')\n",
    "    input_variables = ['10ws','100ws','100alpha']\n",
    "    target_variables = [0,1,2,3,4]\n",
    "    X_test, Y_test = data_processing('data/ERA5.nc',f'data/Profiler_Chebyshev_Coefficients/{station_id}.nc',\n",
    "                                    input_times_freq,input_variables,target_variables,dates_range,station_id)\n",
    "    print(year, X_test.shape, Y_test.shape)"
   ]
  },
  {
   "cell_type": "markdown",
   "metadata": {},
   "source": [
    "# Checking the data processing script for NOW23 Chebyshev coefficients"
   ]
  },
  {
   "cell_type": "code",
   "execution_count": 7,
   "metadata": {},
   "outputs": [
    {
     "name": "stdout",
     "output_type": "stream",
     "text": [
      "2018 (7014, 3) (7014, 5) (1746, 3) (1746, 5)\n",
      "2019 (7014, 3) (7014, 5) (1746, 3) (1746, 5)\n",
      "2020 (7033, 3) (7033, 5) (1751, 3) (1751, 5)\n"
     ]
    }
   ],
   "source": [
    "input_times_freq = 12\n",
    "for year in range(2018,2021):\n",
    "    dates_range = (f'{year}-01-01T00', f'{year}-12-31T23')\n",
    "    input_variables = ['10ws','100ws','100alpha']\n",
    "    target_variables = [0,1,2,3,4]\n",
    "\n",
    "    X_train, Y_train, X_valid, Y_valid = data_processing('data/ERA5.nc',f'data/NOW23_Chebyshev_Coefficients/{station_id}.nc',\n",
    "                                                        input_times_freq,input_variables,target_variables,dates_range,station_id,val_arg=True)\n",
    "    print(year, X_train.shape, Y_train.shape, X_valid.shape, Y_valid.shape)"
   ]
  },
  {
   "cell_type": "code",
   "execution_count": 8,
   "metadata": {},
   "outputs": [
    {
     "name": "stdout",
     "output_type": "stream",
     "text": [
      "2018 (8760, 3) (8760, 5)\n",
      "2019 (8760, 3) (8760, 5)\n",
      "2020 (8784, 3) (8784, 5)\n"
     ]
    }
   ],
   "source": [
    "input_times_freq = 12\n",
    "for year in range(2018,2021):\n",
    "    dates_range = (f'{year}-01-01T00', f'{year}-12-31T23')\n",
    "    input_variables = ['10ws','100ws','100alpha']\n",
    "    target_variables = [0,1,2,3,4]\n",
    "\n",
    "    X_test, Y_test = data_processing('data/ERA5.nc',f'data/NOW23_Chebyshev_Coefficients/{station_id}.nc',\n",
    "                                    input_times_freq,input_variables,target_variables,dates_range,station_id)\n",
    "    print(year, X_test.shape, Y_test.shape)"
   ]
  },
  {
   "cell_type": "code",
   "execution_count": null,
   "metadata": {},
   "outputs": [],
   "source": []
  }
 ],
 "metadata": {
  "kernelspec": {
   "display_name": "TabNet_env",
   "language": "python",
   "name": "python3"
  },
  "language_info": {
   "codemirror_mode": {
    "name": "ipython",
    "version": 3
   },
   "file_extension": ".py",
   "mimetype": "text/x-python",
   "name": "python",
   "nbconvert_exporter": "python",
   "pygments_lexer": "ipython3",
   "version": "3.10.15"
  }
 },
 "nbformat": 4,
 "nbformat_minor": 2
}
