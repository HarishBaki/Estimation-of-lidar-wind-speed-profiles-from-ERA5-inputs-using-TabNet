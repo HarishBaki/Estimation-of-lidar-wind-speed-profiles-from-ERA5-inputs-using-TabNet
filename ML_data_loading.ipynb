{
 "cells": [
  {
   "cell_type": "code",
   "execution_count": 1,
   "metadata": {},
   "outputs": [
    {
     "name": "stdout",
     "output_type": "stream",
     "text": [
      "Date accessed: 2024-10-13 01:37:39\n"
     ]
    }
   ],
   "source": [
    "from datetime import datetime\n",
    "\n",
    "# print date as date accessed\n",
    "date_accessed = datetime.now().strftime(\"%Y-%m-%d %H:%M:%S\")\n",
    "print(f\"Date accessed: {date_accessed}\")"
   ]
  },
  {
   "cell_type": "code",
   "execution_count": 2,
   "metadata": {},
   "outputs": [],
   "source": [
    "import xarray as xr\n",
    "import dask\n",
    "import numpy as np\n",
    "import pandas as pd\n",
    "import matplotlib.pyplot as plt\n",
    "import matplotlib.colors as colors\n",
    "import os, sys, glob, re, time, math, calendar\n",
    "\n",
    "# import custom functions\n",
    "sys.path.append('/')\n",
    "from libraries import *"
   ]
  },
  {
   "cell_type": "code",
   "execution_count": 3,
   "metadata": {},
   "outputs": [
    {
     "data": {
      "text/plain": [
       "(<xarray.Dataset> Size: 118MB\n",
       " Dimensions:      (valid_time: 52584, location: 18)\n",
       " Coordinates:\n",
       "   * valid_time   (valid_time) datetime64[ns] 421kB 2018-01-01 ... 2023-12-31T...\n",
       "   * location     (location) <U9 648B 'PROF_ALB2' 'PROF_ALBA' ... 'PROF_WEBS'\n",
       "     latitude     (location) float64 144B ...\n",
       "     longitude    (location) float64 144B ...\n",
       "     year         (valid_time) float64 421kB ...\n",
       " Data variables: (12/30)\n",
       "     10ws         (location, valid_time) float32 4MB ...\n",
       "     100ws        (location, valid_time) float32 4MB ...\n",
       "     975ws        (location, valid_time) float32 4MB ...\n",
       "     950ws        (location, valid_time) float32 4MB ...\n",
       "     zust         (location, valid_time) float32 4MB ...\n",
       "     i10fg        (location, valid_time) float32 4MB ...\n",
       "     ...           ...\n",
       "     950wsgrad    (location, valid_time) float32 4MB ...\n",
       "     2mtempgrad   (location, valid_time) float32 4MB ...\n",
       "     sktempgrad   (location, valid_time) float32 4MB ...\n",
       "     dewtempsprd  (location, valid_time) float32 4MB ...\n",
       "     950tempgrad  (location, valid_time) float32 4MB ...\n",
       "     975tempgrad  (location, valid_time) float32 4MB ...,\n",
       " <xarray.Dataset> Size: 2MB\n",
       " Dimensions:                 (time: 31605, coeff: 5)\n",
       " Coordinates:\n",
       "   * time                    (time) datetime64[ns] 253kB 2018-01-04T17:00:00 ....\n",
       "   * coeff                   (coeff) int64 40B 0 1 2 3 4\n",
       " Data variables:\n",
       "     Chebyshev_Coefficients  (time, coeff) float64 1MB ...)"
      ]
     },
     "execution_count": 3,
     "metadata": {},
     "output_type": "execute_result"
    }
   ],
   "source": [
    "station_id = 'PROF_OWEG'\n",
    "inputs = xr.open_dataset('data/ERA5.nc')\n",
    "ChSh_Coeff = xr.open_dataset(f'data/Profiler_Chebyshev_Coefficients/{station_id}.nc')\n",
    "inputs, ChSh_Coeff"
   ]
  },
  {
   "cell_type": "markdown",
   "metadata": {},
   "source": [
    "# Checking the data processing script for Profiler Chebyshev coefficients"
   ]
  },
  {
   "cell_type": "code",
   "execution_count": 4,
   "metadata": {},
   "outputs": [
    {
     "name": "stdout",
     "output_type": "stream",
     "text": [
      "(4348, 3) (4348, 5) (1081, 3) (1081, 5)\n"
     ]
    },
    {
     "ename": "",
     "evalue": "",
     "output_type": "error",
     "traceback": [
      "\u001b[1;31mThe Kernel crashed while executing code in the current cell or a previous cell. \n",
      "\u001b[1;31mPlease review the code in the cell(s) to identify a possible cause of the failure. \n",
      "\u001b[1;31mClick <a href='https://aka.ms/vscodeJupyterKernelCrash'>here</a> for more info. \n",
      "\u001b[1;31mView Jupyter <a href='command:jupyter.viewOutput'>log</a> for further details."
     ]
    }
   ],
   "source": [
    "input_times_freq = 1\n",
    "dates_range = ('2018-01-01T00', '2018-12-31T23')\n",
    "input_variables = ['10ws','100ws','100alpha']\n",
    "target_variables = [0,1,2,3,4]\n",
    "\n",
    "X_train, Y_train, X_valid, Y_valid = data_processing('data/ERA5.nc',f'data/Profiler_Chebyshev_Coefficients/{station_id}.nc',\n",
    "                                                     1,input_variables,target_variables,dates_range,station_id,val_arg=True)\n",
    "print(X_train.shape, Y_train.shape, X_valid.shape, Y_valid.shape)"
   ]
  },
  {
   "cell_type": "code",
   "execution_count": null,
   "metadata": {},
   "outputs": [],
   "source": [
    "input_times_freq = 1\n",
    "dates_range = ('2018-01-01T00', '2018-12-31T23')\n",
    "input_variables = ['10ws','100ws','100alpha']\n",
    "target_variables = [0,1,2,3,4]\n",
    "X_test, Y_test = data_processing('data/ERA5.nc',f'data/Profiler_Chebyshev_Coefficients/{station_id}.nc',\n",
    "                                 1,input_variables,target_variables,dates_range,station_id)\n",
    "print(X_test.shape, Y_test.shape)"
   ]
  },
  {
   "cell_type": "markdown",
   "metadata": {},
   "source": [
    "# Checking the data processing script for NOW23 Chebyshev coefficients"
   ]
  },
  {
   "cell_type": "code",
   "execution_count": 4,
   "metadata": {},
   "outputs": [
    {
     "name": "stdout",
     "output_type": "stream",
     "text": [
      "(7014, 3) (7014, 5) (1746, 3) (1746, 5)\n"
     ]
    }
   ],
   "source": [
    "input_times_freq = 12\n",
    "dates_range = ('2018-01-01T00', '2018-12-31T23')\n",
    "input_variables = ['10ws','100ws','100alpha']\n",
    "target_variables = [0,1,2,3,4]\n",
    "\n",
    "X_train, Y_train, X_valid, Y_valid = data_processing('data/ERA5.nc',f'data/NOW23_Chebyshev_Coefficients/{station_id}.nc',\n",
    "                                                     input_times_freq,input_variables,target_variables,dates_range,station_id,val_arg=True)\n",
    "print(X_train.shape, Y_train.shape, X_valid.shape, Y_valid.shape)"
   ]
  },
  {
   "cell_type": "code",
   "execution_count": 5,
   "metadata": {},
   "outputs": [
    {
     "ename": "",
     "evalue": "",
     "output_type": "error",
     "traceback": [
      "\u001b[1;31mThe Kernel crashed while executing code in the current cell or a previous cell. \n",
      "\u001b[1;31mPlease review the code in the cell(s) to identify a possible cause of the failure. \n",
      "\u001b[1;31mClick <a href='https://aka.ms/vscodeJupyterKernelCrash'>here</a> for more info. \n",
      "\u001b[1;31mView Jupyter <a href='command:jupyter.viewOutput'>log</a> for further details."
     ]
    }
   ],
   "source": [
    "input_times_freq = 12\n",
    "dates_range = ('2018-01-01T00', '2018-12-31T23')\n",
    "input_variables = ['10ws','100ws','100alpha']\n",
    "target_variables = [0,1,2,3,4]\n",
    "\n",
    "X_test, Y_test = data_processing('data/ERA5.nc',f'data/NOW23_Chebyshev_Coefficients/{station_id}.nc',\n",
    "                                 1,input_variables,target_variables,dates_range,station_id)\n",
    "print(X_test.shape, Y_test.shape)"
   ]
  },
  {
   "cell_type": "code",
   "execution_count": null,
   "metadata": {},
   "outputs": [],
   "source": []
  }
 ],
 "metadata": {
  "kernelspec": {
   "display_name": "TabNet_env",
   "language": "python",
   "name": "python3"
  },
  "language_info": {
   "codemirror_mode": {
    "name": "ipython",
    "version": 3
   },
   "file_extension": ".py",
   "mimetype": "text/x-python",
   "name": "python",
   "nbconvert_exporter": "python",
   "pygments_lexer": "ipython3",
   "version": "3.12.7"
  }
 },
 "nbformat": 4,
 "nbformat_minor": 2
}
