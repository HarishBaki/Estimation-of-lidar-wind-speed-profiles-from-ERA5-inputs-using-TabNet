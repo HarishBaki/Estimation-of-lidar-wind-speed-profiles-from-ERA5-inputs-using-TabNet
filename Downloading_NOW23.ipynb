{
 "cells": [
  {
   "cell_type": "code",
   "execution_count": 4,
   "metadata": {},
   "outputs": [],
   "source": [
    "import h5pyd\n",
    "from rex import Resource\n",
    "from rex import ResourceX\n",
    "import os\n",
    "import pandas as pd"
   ]
  },
  {
   "cell_type": "code",
   "execution_count": 2,
   "metadata": {},
   "outputs": [
    {
     "name": "stdout",
     "output_type": "stream",
     "text": [
      "['wtk', 'NOW-WAKES_Mid_Atlantic', 'alaska', 'bangladesh', 'canada-5min', 'canada', 'canada_bc', 'central_asia', 'conus-5min', 'conus', 'great_lakes-5min', 'great_lakes', 'gulf_of_mexico', 'hawaii-5min', 'hawaii', 'india', 'kazakhstan', 'led', 'maine', 'mexico-5min', 'mexico', 'mid_atlantic-5min', 'mid_atlantic', 'north_america', 'now23_california', 'nw_pacific-5min', 'nw_pacific', 'offshore_ca-5min', 'offshore_ca', 'philippines', 'pr100', 'seasiawind', 'seasiawind_v2', 'seasiawind_v3', 'south_atlantic', 'sup3rwind', 'vietnam', 'wtk-led']\n"
     ]
    }
   ],
   "source": [
    "print(list(h5pyd.Folder('/nrel/wtk/')))"
   ]
  },
  {
   "cell_type": "code",
   "execution_count": 3,
   "metadata": {},
   "outputs": [
    {
     "name": "stdout",
     "output_type": "stream",
     "text": [
      "['Great_Lakes_2000.h5', 'Great_Lakes_2001.h5', 'Great_Lakes_2002.h5', 'Great_Lakes_2003.h5', 'Great_Lakes_2004.h5', 'Great_Lakes_2005.h5', 'Great_Lakes_2006.h5', 'Great_Lakes_2007.h5', 'Great_Lakes_2008.h5', 'Great_Lakes_2009.h5', 'Great_Lakes_2010.h5', 'Great_Lakes_2011.h5', 'Great_Lakes_2012.h5', 'Great_Lakes_2013.h5', 'Great_Lakes_2014.h5', 'Great_Lakes_2015.h5', 'Great_Lakes_2016.h5', 'Great_Lakes_2017.h5', 'Great_Lakes_2018.h5', 'Great_Lakes_2019.h5', 'Great_Lakes_2020.h5']\n"
     ]
    }
   ],
   "source": [
    "print(list(h5pyd.Folder('/nrel/wtk/great_lakes-5min/')))"
   ]
  },
  {
   "cell_type": "code",
   "execution_count": 34,
   "metadata": {},
   "outputs": [
    {
     "name": "stdout",
     "output_type": "stream",
     "text": [
      "['boundary_layer_height', 'coordinates', 'friction_velocity_2m', 'inversemoninobukhovlength_2m', 'meta', 'precipitation_0m', 'pressure_0m', 'pressure_100m', 'pressure_200m', 'pressure_300m', 'relativehumidity_2m', 'roughness_length', 'skin_temperature', 'surface_heat_flux', 'surface_sea_temperature', 'temperature_100m', 'temperature_10m', 'temperature_120m', 'temperature_140m', 'temperature_160m', 'temperature_180m', 'temperature_200m', 'temperature_20m', 'temperature_220m', 'temperature_240m', 'temperature_260m', 'temperature_280m', 'temperature_2m', 'temperature_300m', 'temperature_400m', 'temperature_40m', 'temperature_500m', 'temperature_60m', 'temperature_80m', 'time_index', 'turbulent_kinetic_energy_100m', 'turbulent_kinetic_energy_10m', 'turbulent_kinetic_energy_120m', 'turbulent_kinetic_energy_140m', 'turbulent_kinetic_energy_160m', 'turbulent_kinetic_energy_180m', 'turbulent_kinetic_energy_200m', 'turbulent_kinetic_energy_20m', 'turbulent_kinetic_energy_220m', 'turbulent_kinetic_energy_240m', 'turbulent_kinetic_energy_260m', 'turbulent_kinetic_energy_280m', 'turbulent_kinetic_energy_300m', 'turbulent_kinetic_energy_400m', 'turbulent_kinetic_energy_40m', 'turbulent_kinetic_energy_500m', 'turbulent_kinetic_energy_60m', 'turbulent_kinetic_energy_80m', 'virtual_potential_temperature_100m', 'virtual_potential_temperature_10m', 'virtual_potential_temperature_120m', 'virtual_potential_temperature_140m', 'virtual_potential_temperature_160m', 'virtual_potential_temperature_180m', 'virtual_potential_temperature_200m', 'virtual_potential_temperature_20m', 'virtual_potential_temperature_220m', 'virtual_potential_temperature_240m', 'virtual_potential_temperature_260m', 'virtual_potential_temperature_280m', 'virtual_potential_temperature_2m', 'virtual_potential_temperature_300m', 'virtual_potential_temperature_400m', 'virtual_potential_temperature_40m', 'virtual_potential_temperature_500m', 'virtual_potential_temperature_60m', 'virtual_potential_temperature_80m', 'winddirection_100m', 'winddirection_10m', 'winddirection_120m', 'winddirection_140m', 'winddirection_160m', 'winddirection_180m', 'winddirection_200m', 'winddirection_20m', 'winddirection_220m', 'winddirection_240m', 'winddirection_260m', 'winddirection_280m', 'winddirection_300m', 'winddirection_400m', 'winddirection_40m', 'winddirection_500m', 'winddirection_60m', 'winddirection_80m', 'windspeed_100m', 'windspeed_10m', 'windspeed_120m', 'windspeed_140m', 'windspeed_160m', 'windspeed_180m', 'windspeed_200m', 'windspeed_20m', 'windspeed_220m', 'windspeed_240m', 'windspeed_260m', 'windspeed_280m', 'windspeed_300m', 'windspeed_400m', 'windspeed_40m', 'windspeed_500m', 'windspeed_60m', 'windspeed_80m']\n",
      "         latitude  longitude        country     state             county  \\\n",
      "gid                                                                        \n",
      "0       39.705357 -92.422852  United States  Missouri              Macon   \n",
      "1       39.723660 -92.426575  United States  Missouri              Macon   \n",
      "2       39.741970 -92.430298  United States  Missouri              Macon   \n",
      "3       39.760284 -92.434021  United States  Missouri              Macon   \n",
      "4       39.778591 -92.437744  United States  Missouri              Macon   \n",
      "...           ...        ...            ...       ...                ...   \n",
      "388075  50.013969 -73.624908         Canada    Québec  Maria-Chapdelaine   \n",
      "388076  50.032486 -73.622620         Canada    Québec  Maria-Chapdelaine   \n",
      "388077  50.051003 -73.620300         Canada    Québec  Maria-Chapdelaine   \n",
      "388078  50.069519 -73.618011         Canada    Québec  Maria-Chapdelaine   \n",
      "388079  50.088032 -73.615723         Canada    Québec  Maria-Chapdelaine   \n",
      "\n",
      "        timezone  elevation  offshore  \n",
      "gid                                    \n",
      "0             -6        243         0  \n",
      "1             -6        261         0  \n",
      "2             -6        255         0  \n",
      "3             -6        257         0  \n",
      "4             -6        245         0  \n",
      "...          ...        ...       ...  \n",
      "388075        -5        465         0  \n",
      "388076        -5        476         0  \n",
      "388077        -5        446         0  \n",
      "388078        -5        443         0  \n",
      "388079        -5        441         0  \n",
      "\n",
      "[388080 rows x 8 columns]\n",
      "DatetimeIndex(['2001-01-01 00:00:00+00:00', '2001-01-01 00:05:00+00:00',\n",
      "               '2001-01-01 00:10:00+00:00', '2001-01-01 00:15:00+00:00',\n",
      "               '2001-01-01 00:20:00+00:00', '2001-01-01 00:25:00+00:00',\n",
      "               '2001-01-01 00:30:00+00:00', '2001-01-01 00:35:00+00:00',\n",
      "               '2001-01-01 00:40:00+00:00', '2001-01-01 00:45:00+00:00',\n",
      "               ...\n",
      "               '2001-12-31 23:10:00+00:00', '2001-12-31 23:15:00+00:00',\n",
      "               '2001-12-31 23:20:00+00:00', '2001-12-31 23:25:00+00:00',\n",
      "               '2001-12-31 23:30:00+00:00', '2001-12-31 23:35:00+00:00',\n",
      "               '2001-12-31 23:40:00+00:00', '2001-12-31 23:45:00+00:00',\n",
      "               '2001-12-31 23:50:00+00:00', '2001-12-31 23:55:00+00:00'],\n",
      "              dtype='datetime64[ns, UTC]', length=105120, freq=None)\n",
      "                              350153\n",
      "time_index                          \n",
      "2001-01-01 00:00:00+00:00  19.969999\n",
      "2001-01-01 00:05:00+00:00  19.980000\n",
      "2001-01-01 00:10:00+00:00  20.000000\n",
      "2001-01-01 00:15:00+00:00  20.020000\n",
      "2001-01-01 00:20:00+00:00  20.040001\n",
      "...                              ...\n",
      "2001-12-31 23:35:00+00:00  15.320000\n",
      "2001-12-31 23:40:00+00:00  15.330000\n",
      "2001-12-31 23:45:00+00:00  15.240000\n",
      "2001-12-31 23:50:00+00:00  15.170000\n",
      "2001-12-31 23:55:00+00:00  15.190000\n",
      "\n",
      "[105120 rows x 1 columns]\n"
     ]
    }
   ],
   "source": [
    "with Resource('/nrel/wtk/great_lakes-5min/Great_Lakes_2001.h5',hsds=True) as res:\n",
    "    print(res.dsets)\n",
    "    meta = res.meta\n",
    "    print(meta)\n",
    "    print(res.time_index)\n",
    "\n",
    "with ResourceX('/nrel/wtk/great_lakes-5min/Great_Lakes_2001.h5', hsds=True) as res:\n",
    "    df = res.get_lat_lon_df('windspeed_500m', (42.024938, -76.253072))\n",
    "    print(df)"
   ]
  },
  {
   "cell_type": "code",
   "execution_count": 2,
   "metadata": {},
   "outputs": [
    {
     "name": "stdout",
     "output_type": "stream",
     "text": [
      "0 42.68044 -73.81624 PROF_ALB2\n",
      "1 42.75175 -73.81128 PROF_ALBA\n",
      "2 43.78823 -76.11765 PROF_BELL\n",
      "3 40.872481 -73.893522 PROF_BRON\n",
      "4 42.99359 -78.79461 PROF_BUFF\n",
      "5 44.889 -73.46634 PROF_CHAZ\n",
      "6 42.02143 -79.62746 PROF_CLYM\n",
      "7 40.970394 -72.20094 PROF_EHAM\n",
      "8 43.068747 -76.469993 PROF_JORD\n",
      "9 42.024938 -76.253072 PROF_OWEG\n",
      "10 40.734335 -73.815856 PROF_QUEE\n",
      "11 41.99983 -73.88412 PROF_REDH\n",
      "12 40.604014 -74.148499 PROF_STAT\n",
      "13 40.919579 -73.133284 PROF_STON\n",
      "14 41.133034 -74.085979 PROF_SUFF\n",
      "15 44.224256 -74.441052 PROF_TUPP\n",
      "16 40.65025 -73.5054 PROF_WANT\n",
      "17 43.2601 -77.41238 PROF_WEBS\n"
     ]
    }
   ],
   "source": [
    "import pandas as pd\n",
    "profiler_stations = pd.read_csv('data/profiler_locations.csv',usecols=[0,3,4])\n",
    "for index, row in profiler_stations.iterrows():\n",
    "    lon = row['lon [degrees]']\n",
    "    lat = row['lat [degrees]']\n",
    "    station_id = row['stid']\n",
    "    print(index, lat, lon, station_id)"
   ]
  },
  {
   "cell_type": "markdown",
   "metadata": {},
   "source": [
    "- Not all the locations exist in the Great_lakes domain. So, first check which stations exist where (great_lakes or mid_atlantic)"
   ]
  },
  {
   "cell_type": "code",
   "execution_count": 5,
   "metadata": {},
   "outputs": [
    {
     "name": "stdout",
     "output_type": "stream",
     "text": [
      "Error with file /nrel/wtk/great_lakes-5min/Great_Lakes_2000.h5: Latitude, longitude coordinates ([[ 42.68044 -73.81624]]) do not sit within resource grid!\n",
      "Error with file /nrel/wtk/mid_atlantic-5min/Mid_Atlantic_2000.h5: Latitude, longitude coordinates ([[ 42.68044 -73.81624]]) are outsides of the resource domain: ((37.27253341674805, -76.42779541015625), (42.21065902709961, -64.79974365234375))\n",
      "Error with file /nrel/wtk/great_lakes-5min/Great_Lakes_2001.h5: Latitude, longitude coordinates ([[ 42.68044 -73.81624]]) do not sit within resource grid!\n",
      "Error with file /nrel/wtk/mid_atlantic-5min/Mid_Atlantic_2001.h5: Latitude, longitude coordinates ([[ 42.68044 -73.81624]]) are outsides of the resource domain: ((37.27253341674805, -76.42779541015625), (42.21065902709961, -64.79974365234375))\n",
      "Error with file /nrel/wtk/great_lakes-5min/Great_Lakes_2002.h5: Latitude, longitude coordinates ([[ 42.68044 -73.81624]]) do not sit within resource grid!\n",
      "Error with file /nrel/wtk/mid_atlantic-5min/Mid_Atlantic_2002.h5: Latitude, longitude coordinates ([[ 42.68044 -73.81624]]) are outsides of the resource domain: ((37.27253341674805, -76.42779541015625), (42.21065902709961, -64.79974365234375))\n",
      "Error with file /nrel/wtk/great_lakes-5min/Great_Lakes_2003.h5: Latitude, longitude coordinates ([[ 42.68044 -73.81624]]) do not sit within resource grid!\n",
      "Error with file /nrel/wtk/mid_atlantic-5min/Mid_Atlantic_2003.h5: Latitude, longitude coordinates ([[ 42.68044 -73.81624]]) are outsides of the resource domain: ((37.27253341674805, -76.42779541015625), (42.21065902709961, -64.79974365234375))\n",
      "Error with file /nrel/wtk/great_lakes-5min/Great_Lakes_2004.h5: Latitude, longitude coordinates ([[ 42.68044 -73.81624]]) do not sit within resource grid!\n",
      "Error with file /nrel/wtk/mid_atlantic-5min/Mid_Atlantic_2004.h5: Latitude, longitude coordinates ([[ 42.68044 -73.81624]]) are outsides of the resource domain: ((37.27253341674805, -76.42779541015625), (42.21065902709961, -64.79974365234375))\n",
      "Error with file /nrel/wtk/great_lakes-5min/Great_Lakes_2005.h5: Latitude, longitude coordinates ([[ 42.68044 -73.81624]]) do not sit within resource grid!\n",
      "Error with file /nrel/wtk/mid_atlantic-5min/Mid_Atlantic_2005.h5: Latitude, longitude coordinates ([[ 42.68044 -73.81624]]) are outsides of the resource domain: ((37.27253341674805, -76.42779541015625), (42.21065902709961, -64.79974365234375))\n",
      "Error with file /nrel/wtk/great_lakes-5min/Great_Lakes_2006.h5: Latitude, longitude coordinates ([[ 42.68044 -73.81624]]) do not sit within resource grid!\n",
      "Error with file /nrel/wtk/mid_atlantic-5min/Mid_Atlantic_2006.h5: Latitude, longitude coordinates ([[ 42.68044 -73.81624]]) are outsides of the resource domain: ((37.27253341674805, -76.42779541015625), (42.21065902709961, -64.79974365234375))\n",
      "Error with file /nrel/wtk/great_lakes-5min/Great_Lakes_2007.h5: Latitude, longitude coordinates ([[ 42.68044 -73.81624]]) do not sit within resource grid!\n",
      "Error with file /nrel/wtk/mid_atlantic-5min/Mid_Atlantic_2007.h5: Latitude, longitude coordinates ([[ 42.68044 -73.81624]]) are outsides of the resource domain: ((37.27253341674805, -76.42779541015625), (42.21065902709961, -64.79974365234375))\n",
      "Error with file /nrel/wtk/great_lakes-5min/Great_Lakes_2008.h5: Latitude, longitude coordinates ([[ 42.68044 -73.81624]]) do not sit within resource grid!\n",
      "Error with file /nrel/wtk/mid_atlantic-5min/Mid_Atlantic_2008.h5: Latitude, longitude coordinates ([[ 42.68044 -73.81624]]) are outsides of the resource domain: ((37.27253341674805, -76.42779541015625), (42.21065902709961, -64.79974365234375))\n",
      "Error with file /nrel/wtk/great_lakes-5min/Great_Lakes_2009.h5: Latitude, longitude coordinates ([[ 42.68044 -73.81624]]) do not sit within resource grid!\n",
      "Error with file /nrel/wtk/mid_atlantic-5min/Mid_Atlantic_2009.h5: Latitude, longitude coordinates ([[ 42.68044 -73.81624]]) are outsides of the resource domain: ((37.27253341674805, -76.42779541015625), (42.21065902709961, -64.79974365234375))\n",
      "Error with file /nrel/wtk/great_lakes-5min/Great_Lakes_2010.h5: Latitude, longitude coordinates ([[ 42.68044 -73.81624]]) do not sit within resource grid!\n",
      "Error with file /nrel/wtk/mid_atlantic-5min/Mid_Atlantic_2010.h5: Latitude, longitude coordinates ([[ 42.68044 -73.81624]]) are outsides of the resource domain: ((37.27253341674805, -76.42779541015625), (42.21065902709961, -64.79974365234375))\n",
      "Error with file /nrel/wtk/great_lakes-5min/Great_Lakes_2011.h5: Latitude, longitude coordinates ([[ 42.68044 -73.81624]]) do not sit within resource grid!\n",
      "Error with file /nrel/wtk/mid_atlantic-5min/Mid_Atlantic_2011.h5: Latitude, longitude coordinates ([[ 42.68044 -73.81624]]) are outsides of the resource domain: ((37.27253341674805, -76.42779541015625), (42.21065902709961, -64.79974365234375))\n",
      "Error with file /nrel/wtk/great_lakes-5min/Great_Lakes_2012.h5: Latitude, longitude coordinates ([[ 42.68044 -73.81624]]) do not sit within resource grid!\n",
      "Error with file /nrel/wtk/mid_atlantic-5min/Mid_Atlantic_2012.h5: Latitude, longitude coordinates ([[ 42.68044 -73.81624]]) are outsides of the resource domain: ((37.27253341674805, -76.42779541015625), (42.21065902709961, -64.79974365234375))\n",
      "Error with file /nrel/wtk/great_lakes-5min/Great_Lakes_2013.h5: Latitude, longitude coordinates ([[ 42.68044 -73.81624]]) do not sit within resource grid!\n",
      "Error with file /nrel/wtk/mid_atlantic-5min/Mid_Atlantic_2013.h5: Latitude, longitude coordinates ([[ 42.68044 -73.81624]]) are outsides of the resource domain: ((37.27253341674805, -76.42779541015625), (42.21065902709961, -64.79974365234375))\n",
      "Error with file /nrel/wtk/great_lakes-5min/Great_Lakes_2014.h5: Latitude, longitude coordinates ([[ 42.68044 -73.81624]]) do not sit within resource grid!\n"
     ]
    },
    {
     "ename": "KeyboardInterrupt",
     "evalue": "",
     "output_type": "error",
     "traceback": [
      "\u001b[0;31m---------------------------------------------------------------------------\u001b[0m",
      "\u001b[0;31mResourceValueError\u001b[0m                        Traceback (most recent call last)",
      "Cell \u001b[0;32mIn[5], line 26\u001b[0m\n\u001b[1;32m     25\u001b[0m \u001b[38;5;28;01mtry\u001b[39;00m:\n\u001b[0;32m---> 26\u001b[0m     \u001b[38;5;28;01mwith\u001b[39;00m ResourceX(file_path, hsds\u001b[38;5;241m=\u001b[39m\u001b[38;5;28;01mTrue\u001b[39;00m) \u001b[38;5;28;01mas\u001b[39;00m res:\n\u001b[1;32m     27\u001b[0m         \u001b[38;5;28;01mfor\u001b[39;00m height \u001b[38;5;129;01min\u001b[39;00m height_levels:\n",
      "Cell \u001b[0;32mIn[5], line 29\u001b[0m\n\u001b[1;32m     28\u001b[0m var_name \u001b[38;5;241m=\u001b[39m \u001b[38;5;124mf\u001b[39m\u001b[38;5;124m'\u001b[39m\u001b[38;5;124mwindspeed_\u001b[39m\u001b[38;5;132;01m{\u001b[39;00mheight\u001b[38;5;132;01m}\u001b[39;00m\u001b[38;5;124mm\u001b[39m\u001b[38;5;124m'\u001b[39m\n\u001b[0;32m---> 29\u001b[0m df \u001b[38;5;241m=\u001b[39m \u001b[43mres\u001b[49m\u001b[38;5;241;43m.\u001b[39;49m\u001b[43mget_lat_lon_df\u001b[49m\u001b[43m(\u001b[49m\u001b[43mvar_name\u001b[49m\u001b[43m,\u001b[49m\u001b[43m \u001b[49m\u001b[43m(\u001b[49m\u001b[43mlat\u001b[49m\u001b[43m,\u001b[49m\u001b[43m \u001b[49m\u001b[43mlon\u001b[49m\u001b[43m)\u001b[49m\u001b[43m)\u001b[49m\n\u001b[1;32m     30\u001b[0m df \u001b[38;5;241m=\u001b[39m df\u001b[38;5;241m.\u001b[39mrename(columns\u001b[38;5;241m=\u001b[39m{df\u001b[38;5;241m.\u001b[39mcolumns[\u001b[38;5;241m0\u001b[39m]: \u001b[38;5;124mf\u001b[39m\u001b[38;5;124m'\u001b[39m\u001b[38;5;132;01m{\u001b[39;00mheight\u001b[38;5;132;01m}\u001b[39;00m\u001b[38;5;124mm\u001b[39m\u001b[38;5;124m'\u001b[39m})\n",
      "File \u001b[0;32m~/miniconda3/envs/TabNet_env/lib/python3.12/site-packages/rex/resource_extraction/resource_extraction.py:782\u001b[0m, in \u001b[0;36mResourceX.get_lat_lon_df\u001b[0;34m(self, ds_name, lat_lon, check_lat_lon)\u001b[0m\n\u001b[1;32m    760\u001b[0m \u001b[38;5;250m\u001b[39m\u001b[38;5;124;03m\"\"\"\u001b[39;00m\n\u001b[1;32m    761\u001b[0m \u001b[38;5;124;03mExtract timeseries of site(s) nearest to given lat_lon(s) and return\u001b[39;00m\n\u001b[1;32m    762\u001b[0m \u001b[38;5;124;03mas a DataFrame\u001b[39;00m\n\u001b[0;32m   (...)\u001b[0m\n\u001b[1;32m    780\u001b[0m \u001b[38;5;124;03m    Time-series DataFrame for given site(s) and dataset\u001b[39;00m\n\u001b[1;32m    781\u001b[0m \u001b[38;5;124;03m\"\"\"\u001b[39;00m\n\u001b[0;32m--> 782\u001b[0m gid \u001b[38;5;241m=\u001b[39m \u001b[38;5;28;43mself\u001b[39;49m\u001b[38;5;241;43m.\u001b[39;49m\u001b[43mlat_lon_gid\u001b[49m\u001b[43m(\u001b[49m\u001b[43mlat_lon\u001b[49m\u001b[43m,\u001b[49m\u001b[43m \u001b[49m\u001b[43mcheck_lat_lon\u001b[49m\u001b[38;5;241;43m=\u001b[39;49m\u001b[43mcheck_lat_lon\u001b[49m\u001b[43m)\u001b[49m\n\u001b[1;32m    783\u001b[0m df \u001b[38;5;241m=\u001b[39m \u001b[38;5;28mself\u001b[39m\u001b[38;5;241m.\u001b[39mget_gid_df(ds_name, gid)\n",
      "File \u001b[0;32m~/miniconda3/envs/TabNet_env/lib/python3.12/site-packages/rex/resource_extraction/resource_extraction.py:608\u001b[0m, in \u001b[0;36mResourceX.lat_lon_gid\u001b[0;34m(self, lat_lon, check_lat_lon)\u001b[0m\n\u001b[1;32m    607\u001b[0m         logger\u001b[38;5;241m.\u001b[39merror(msg)\n\u001b[0;32m--> 608\u001b[0m         \u001b[38;5;28;01mraise\u001b[39;00m ResourceValueError(msg)\n\u001b[1;32m    610\u001b[0m \u001b[38;5;28;01mif\u001b[39;00m \u001b[38;5;28mlen\u001b[39m(gids) \u001b[38;5;241m==\u001b[39m \u001b[38;5;241m1\u001b[39m:\n",
      "\u001b[0;31mResourceValueError\u001b[0m: Latitude, longitude coordinates ([[ 42.68044 -73.81624]]) do not sit within resource grid!",
      "\nDuring handling of the above exception, another exception occurred:\n",
      "\u001b[0;31mKeyboardInterrupt\u001b[0m                         Traceback (most recent call last)",
      "Cell \u001b[0;32mIn[5], line 39\u001b[0m\n\u001b[1;32m     37\u001b[0m alt_file_path \u001b[38;5;241m=\u001b[39m \u001b[38;5;124mf\u001b[39m\u001b[38;5;124m'\u001b[39m\u001b[38;5;124m/nrel/wtk/mid_atlantic-5min/Mid_Atlantic_\u001b[39m\u001b[38;5;132;01m{\u001b[39;00myear\u001b[38;5;132;01m}\u001b[39;00m\u001b[38;5;124m.h5\u001b[39m\u001b[38;5;124m'\u001b[39m\n\u001b[1;32m     38\u001b[0m \u001b[38;5;28;01mtry\u001b[39;00m:\n\u001b[0;32m---> 39\u001b[0m     \u001b[38;5;28;01mwith\u001b[39;00m ResourceX(alt_file_path, hsds\u001b[38;5;241m=\u001b[39m\u001b[38;5;28;01mTrue\u001b[39;00m) \u001b[38;5;28;01mas\u001b[39;00m res:\n\u001b[1;32m     40\u001b[0m         \u001b[38;5;28;01mfor\u001b[39;00m height \u001b[38;5;129;01min\u001b[39;00m height_levels:\n\u001b[1;32m     41\u001b[0m             var_name \u001b[38;5;241m=\u001b[39m \u001b[38;5;124mf\u001b[39m\u001b[38;5;124m'\u001b[39m\u001b[38;5;124mwindspeed_\u001b[39m\u001b[38;5;132;01m{\u001b[39;00mheight\u001b[38;5;132;01m}\u001b[39;00m\u001b[38;5;124mm\u001b[39m\u001b[38;5;124m'\u001b[39m\n",
      "Cell \u001b[0;32mIn[5], line 42\u001b[0m\n\u001b[1;32m     40\u001b[0m \u001b[38;5;28;01mfor\u001b[39;00m height \u001b[38;5;129;01min\u001b[39;00m height_levels:\n\u001b[1;32m     41\u001b[0m     var_name \u001b[38;5;241m=\u001b[39m \u001b[38;5;124mf\u001b[39m\u001b[38;5;124m'\u001b[39m\u001b[38;5;124mwindspeed_\u001b[39m\u001b[38;5;132;01m{\u001b[39;00mheight\u001b[38;5;132;01m}\u001b[39;00m\u001b[38;5;124mm\u001b[39m\u001b[38;5;124m'\u001b[39m\n\u001b[0;32m---> 42\u001b[0m     df \u001b[38;5;241m=\u001b[39m \u001b[43mres\u001b[49m\u001b[38;5;241;43m.\u001b[39;49m\u001b[43mget_lat_lon_df\u001b[49m\u001b[43m(\u001b[49m\u001b[43mvar_name\u001b[49m\u001b[43m,\u001b[49m\u001b[43m \u001b[49m\u001b[43m(\u001b[49m\u001b[43mlat\u001b[49m\u001b[43m,\u001b[49m\u001b[43m \u001b[49m\u001b[43mlon\u001b[49m\u001b[43m)\u001b[49m\u001b[43m)\u001b[49m\n\u001b[1;32m     43\u001b[0m     df \u001b[38;5;241m=\u001b[39m df\u001b[38;5;241m.\u001b[39mrename(columns\u001b[38;5;241m=\u001b[39m{df\u001b[38;5;241m.\u001b[39mcolumns[\u001b[38;5;241m0\u001b[39m]: \u001b[38;5;124mf\u001b[39m\u001b[38;5;124m'\u001b[39m\u001b[38;5;132;01m{\u001b[39;00mheight\u001b[38;5;132;01m}\u001b[39;00m\u001b[38;5;124mm\u001b[39m\u001b[38;5;124m'\u001b[39m})\n\u001b[1;32m     44\u001b[0m     dfs\u001b[38;5;241m.\u001b[39mappend(df)\n",
      "File \u001b[0;32m~/miniconda3/envs/TabNet_env/lib/python3.12/site-packages/rex/resource_extraction/resource_extraction.py:782\u001b[0m, in \u001b[0;36mResourceX.get_lat_lon_df\u001b[0;34m(self, ds_name, lat_lon, check_lat_lon)\u001b[0m\n\u001b[1;32m    759\u001b[0m \u001b[38;5;28;01mdef\u001b[39;00m \u001b[38;5;21mget_lat_lon_df\u001b[39m(\u001b[38;5;28mself\u001b[39m, ds_name, lat_lon, check_lat_lon\u001b[38;5;241m=\u001b[39m\u001b[38;5;28;01mTrue\u001b[39;00m):\n\u001b[1;32m    760\u001b[0m \u001b[38;5;250m    \u001b[39m\u001b[38;5;124;03m\"\"\"\u001b[39;00m\n\u001b[1;32m    761\u001b[0m \u001b[38;5;124;03m    Extract timeseries of site(s) nearest to given lat_lon(s) and return\u001b[39;00m\n\u001b[1;32m    762\u001b[0m \u001b[38;5;124;03m    as a DataFrame\u001b[39;00m\n\u001b[0;32m   (...)\u001b[0m\n\u001b[1;32m    780\u001b[0m \u001b[38;5;124;03m        Time-series DataFrame for given site(s) and dataset\u001b[39;00m\n\u001b[1;32m    781\u001b[0m \u001b[38;5;124;03m    \"\"\"\u001b[39;00m\n\u001b[0;32m--> 782\u001b[0m     gid \u001b[38;5;241m=\u001b[39m \u001b[38;5;28;43mself\u001b[39;49m\u001b[38;5;241;43m.\u001b[39;49m\u001b[43mlat_lon_gid\u001b[49m\u001b[43m(\u001b[49m\u001b[43mlat_lon\u001b[49m\u001b[43m,\u001b[49m\u001b[43m \u001b[49m\u001b[43mcheck_lat_lon\u001b[49m\u001b[38;5;241;43m=\u001b[39;49m\u001b[43mcheck_lat_lon\u001b[49m\u001b[43m)\u001b[49m\n\u001b[1;32m    783\u001b[0m     df \u001b[38;5;241m=\u001b[39m \u001b[38;5;28mself\u001b[39m\u001b[38;5;241m.\u001b[39mget_gid_df(ds_name, gid)\n\u001b[1;32m    785\u001b[0m     \u001b[38;5;28;01mreturn\u001b[39;00m df\n",
      "File \u001b[0;32m~/miniconda3/envs/TabNet_env/lib/python3.12/site-packages/rex/resource_extraction/resource_extraction.py:602\u001b[0m, in \u001b[0;36mResourceX.lat_lon_gid\u001b[0;34m(self, lat_lon, check_lat_lon)\u001b[0m\n\u001b[1;32m    599\u001b[0m dist, gids \u001b[38;5;241m=\u001b[39m \u001b[38;5;28mself\u001b[39m\u001b[38;5;241m.\u001b[39mtree\u001b[38;5;241m.\u001b[39mquery(lat_lon)\n\u001b[1;32m    601\u001b[0m \u001b[38;5;28;01mif\u001b[39;00m check_lat_lon:\n\u001b[0;32m--> 602\u001b[0m     \u001b[38;5;28;43mself\u001b[39;49m\u001b[38;5;241;43m.\u001b[39;49m\u001b[43m_check_lat_lon\u001b[49m\u001b[43m(\u001b[49m\u001b[43mlat_lon\u001b[49m\u001b[43m)\u001b[49m\n\u001b[1;32m    603\u001b[0m     dist_check \u001b[38;5;241m=\u001b[39m dist \u001b[38;5;241m>\u001b[39m \u001b[38;5;28mself\u001b[39m\u001b[38;5;241m.\u001b[39mdistance_threshold\n\u001b[1;32m    604\u001b[0m     \u001b[38;5;28;01mif\u001b[39;00m np\u001b[38;5;241m.\u001b[39many(dist_check):\n",
      "File \u001b[0;32m~/miniconda3/envs/TabNet_env/lib/python3.12/site-packages/rex/resource_extraction/resource_extraction.py:555\u001b[0m, in \u001b[0;36mResourceX._check_lat_lon\u001b[0;34m(self, lat_lon)\u001b[0m\n\u001b[1;32m    546\u001b[0m \u001b[38;5;28;01mdef\u001b[39;00m \u001b[38;5;21m_check_lat_lon\u001b[39m(\u001b[38;5;28mself\u001b[39m, lat_lon):\n\u001b[1;32m    547\u001b[0m \u001b[38;5;250m    \u001b[39m\u001b[38;5;124;03m\"\"\"\u001b[39;00m\n\u001b[1;32m    548\u001b[0m \u001b[38;5;124;03m    Check lat lon coordinates against domain\u001b[39;00m\n\u001b[1;32m    549\u001b[0m \n\u001b[0;32m   (...)\u001b[0m\n\u001b[1;32m    553\u001b[0m \u001b[38;5;124;03m        Either a single (lat, lon) pair or series of (lat, lon) pairs\u001b[39;00m\n\u001b[1;32m    554\u001b[0m \u001b[38;5;124;03m    \"\"\"\u001b[39;00m\n\u001b[0;32m--> 555\u001b[0m     lat_min, lat_max \u001b[38;5;241m=\u001b[39m np\u001b[38;5;241m.\u001b[39msort(\u001b[38;5;28;43mself\u001b[39;49m\u001b[38;5;241;43m.\u001b[39;49m\u001b[43mlat_lon\u001b[49m[:, \u001b[38;5;241m0\u001b[39m])[[\u001b[38;5;241m0\u001b[39m, \u001b[38;5;241m-\u001b[39m\u001b[38;5;241m1\u001b[39m]]\n\u001b[1;32m    556\u001b[0m     lon_min, lon_max \u001b[38;5;241m=\u001b[39m np\u001b[38;5;241m.\u001b[39msort(\u001b[38;5;28mself\u001b[39m\u001b[38;5;241m.\u001b[39mlat_lon[:, \u001b[38;5;241m1\u001b[39m])[[\u001b[38;5;241m0\u001b[39m, \u001b[38;5;241m-\u001b[39m\u001b[38;5;241m1\u001b[39m]]\n\u001b[1;32m    558\u001b[0m     lat \u001b[38;5;241m=\u001b[39m lat_lon[:, \u001b[38;5;241m0\u001b[39m]\n",
      "File \u001b[0;32m~/miniconda3/envs/TabNet_env/lib/python3.12/site-packages/rex/resource_extraction/resource_extraction.py:247\u001b[0m, in \u001b[0;36mResourceX.lat_lon\u001b[0;34m(self)\u001b[0m\n\u001b[1;32m    238\u001b[0m \u001b[38;5;129m@property\u001b[39m\n\u001b[1;32m    239\u001b[0m \u001b[38;5;28;01mdef\u001b[39;00m \u001b[38;5;21mlat_lon\u001b[39m(\u001b[38;5;28mself\u001b[39m):\n\u001b[1;32m    240\u001b[0m \u001b[38;5;250m    \u001b[39m\u001b[38;5;124;03m\"\"\"\u001b[39;00m\n\u001b[1;32m    241\u001b[0m \u001b[38;5;124;03m    Extract (latitude, longitude) pairs\u001b[39;00m\n\u001b[1;32m    242\u001b[0m \n\u001b[0;32m   (...)\u001b[0m\n\u001b[1;32m    245\u001b[0m \u001b[38;5;124;03m    lat_lon : ndarray\u001b[39;00m\n\u001b[1;32m    246\u001b[0m \u001b[38;5;124;03m    \"\"\"\u001b[39;00m\n\u001b[0;32m--> 247\u001b[0m     \u001b[38;5;28;01mreturn\u001b[39;00m \u001b[38;5;28;43mself\u001b[39;49m\u001b[38;5;241;43m.\u001b[39;49m\u001b[43mresource\u001b[49m\u001b[38;5;241;43m.\u001b[39;49m\u001b[43mlat_lon\u001b[49m\n",
      "File \u001b[0;32m~/miniconda3/envs/TabNet_env/lib/python3.12/site-packages/rex/resource.py:886\u001b[0m, in \u001b[0;36mBaseResource.lat_lon\u001b[0;34m(self)\u001b[0m\n\u001b[1;32m    878\u001b[0m \u001b[38;5;250m\u001b[39m\u001b[38;5;124;03m\"\"\"\u001b[39;00m\n\u001b[1;32m    879\u001b[0m \u001b[38;5;124;03mExtract (latitude, longitude) pairs\u001b[39;00m\n\u001b[1;32m    880\u001b[0m \n\u001b[0;32m   (...)\u001b[0m\n\u001b[1;32m    883\u001b[0m \u001b[38;5;124;03mlat_lon : ndarray\u001b[39;00m\n\u001b[1;32m    884\u001b[0m \u001b[38;5;124;03m\"\"\"\u001b[39;00m\n\u001b[1;32m    885\u001b[0m \u001b[38;5;28;01mif\u001b[39;00m \u001b[38;5;28mself\u001b[39m\u001b[38;5;241m.\u001b[39m_lat_lon \u001b[38;5;129;01mis\u001b[39;00m \u001b[38;5;28;01mNone\u001b[39;00m:\n\u001b[0;32m--> 886\u001b[0m     \u001b[38;5;28;01mif\u001b[39;00m \u001b[38;5;124;43m'\u001b[39;49m\u001b[38;5;124;43mcoordinates\u001b[39;49m\u001b[38;5;124;43m'\u001b[39;49m\u001b[43m \u001b[49m\u001b[38;5;129;43;01min\u001b[39;49;00m\u001b[43m \u001b[49m\u001b[38;5;28;43mself\u001b[39;49m:\n\u001b[1;32m    887\u001b[0m         \u001b[38;5;28mself\u001b[39m\u001b[38;5;241m.\u001b[39m_lat_lon \u001b[38;5;241m=\u001b[39m \u001b[38;5;28mself\u001b[39m\u001b[38;5;241m.\u001b[39m_get_coords(\u001b[38;5;124m'\u001b[39m\u001b[38;5;124mcoordinates\u001b[39m\u001b[38;5;124m'\u001b[39m, \u001b[38;5;28mslice\u001b[39m(\u001b[38;5;28;01mNone\u001b[39;00m))\n\u001b[1;32m    888\u001b[0m     \u001b[38;5;28;01melse\u001b[39;00m:\n",
      "File \u001b[0;32m~/miniconda3/envs/TabNet_env/lib/python3.12/site-packages/rex/resource.py:706\u001b[0m, in \u001b[0;36mBaseResource.__contains__\u001b[0;34m(self, dset)\u001b[0m\n\u001b[1;32m    705\u001b[0m \u001b[38;5;28;01mdef\u001b[39;00m \u001b[38;5;21m__contains__\u001b[39m(\u001b[38;5;28mself\u001b[39m, dset):\n\u001b[0;32m--> 706\u001b[0m     \u001b[38;5;28;01mreturn\u001b[39;00m dset \u001b[38;5;129;01min\u001b[39;00m \u001b[38;5;28;43mself\u001b[39;49m\u001b[38;5;241;43m.\u001b[39;49m\u001b[43mdatasets\u001b[49m\n",
      "File \u001b[0;32m~/miniconda3/envs/TabNet_env/lib/python3.12/site-packages/rex/resource.py:761\u001b[0m, in \u001b[0;36mBaseResource.datasets\u001b[0;34m(self)\u001b[0m\n\u001b[1;32m    752\u001b[0m \u001b[38;5;129m@property\u001b[39m\n\u001b[1;32m    753\u001b[0m \u001b[38;5;28;01mdef\u001b[39;00m \u001b[38;5;21mdatasets\u001b[39m(\u001b[38;5;28mself\u001b[39m):\n\u001b[1;32m    754\u001b[0m \u001b[38;5;250m    \u001b[39m\u001b[38;5;124;03m\"\"\"\u001b[39;00m\n\u001b[1;32m    755\u001b[0m \u001b[38;5;124;03m    Datasets available\u001b[39;00m\n\u001b[1;32m    756\u001b[0m \n\u001b[0;32m   (...)\u001b[0m\n\u001b[1;32m    759\u001b[0m \u001b[38;5;124;03m    list\u001b[39;00m\n\u001b[1;32m    760\u001b[0m \u001b[38;5;124;03m    \"\"\"\u001b[39;00m\n\u001b[0;32m--> 761\u001b[0m     \u001b[38;5;28;01mreturn\u001b[39;00m \u001b[38;5;28;43mself\u001b[39;49m\u001b[38;5;241;43m.\u001b[39;49m\u001b[43m_get_datasets\u001b[49m\u001b[43m(\u001b[49m\u001b[38;5;28;43mself\u001b[39;49m\u001b[38;5;241;43m.\u001b[39;49m\u001b[43mh5\u001b[49m\u001b[43m)\u001b[49m\n",
      "File \u001b[0;32m~/miniconda3/envs/TabNet_env/lib/python3.12/site-packages/rex/resource.py:725\u001b[0m, in \u001b[0;36mBaseResource._get_datasets\u001b[0;34m(cls, h5_obj, group)\u001b[0m\n\u001b[1;32m    723\u001b[0m dsets \u001b[38;5;241m=\u001b[39m []\n\u001b[1;32m    724\u001b[0m \u001b[38;5;28;01mfor\u001b[39;00m name \u001b[38;5;129;01min\u001b[39;00m h5_obj:\n\u001b[0;32m--> 725\u001b[0m     sub_obj \u001b[38;5;241m=\u001b[39m \u001b[43mh5_obj\u001b[49m\u001b[43m[\u001b[49m\u001b[43mname\u001b[49m\u001b[43m]\u001b[49m\n\u001b[1;32m    726\u001b[0m     \u001b[38;5;28;01mif\u001b[39;00m \u001b[38;5;28misinstance\u001b[39m(sub_obj, h5py\u001b[38;5;241m.\u001b[39mGroup):\n\u001b[1;32m    727\u001b[0m         dsets\u001b[38;5;241m.\u001b[39mextend(\u001b[38;5;28mcls\u001b[39m\u001b[38;5;241m.\u001b[39m_get_datasets(sub_obj, group\u001b[38;5;241m=\u001b[39mname))\n",
      "File \u001b[0;32m~/.local/lib/python3.12/site-packages/h5pyd/_hl/group.py:642\u001b[0m, in \u001b[0;36mGroup.__getitem__\u001b[0;34m(self, name)\u001b[0m\n\u001b[1;32m    639\u001b[0m link_class \u001b[38;5;241m=\u001b[39m link_json[\u001b[38;5;124m'\u001b[39m\u001b[38;5;124mclass\u001b[39m\u001b[38;5;124m'\u001b[39m]\n\u001b[1;32m    641\u001b[0m \u001b[38;5;28;01mif\u001b[39;00m link_class \u001b[38;5;241m==\u001b[39m \u001b[38;5;124m'\u001b[39m\u001b[38;5;124mH5L_TYPE_HARD\u001b[39m\u001b[38;5;124m'\u001b[39m:\n\u001b[0;32m--> 642\u001b[0m     tgt \u001b[38;5;241m=\u001b[39m \u001b[38;5;28;43mself\u001b[39;49m\u001b[38;5;241;43m.\u001b[39;49m\u001b[43mgetObjByUuid\u001b[49m\u001b[43m(\u001b[49m\u001b[43mlink_json\u001b[49m\u001b[43m[\u001b[49m\u001b[38;5;124;43m'\u001b[39;49m\u001b[38;5;124;43mid\u001b[39;49m\u001b[38;5;124;43m'\u001b[39;49m\u001b[43m]\u001b[49m\u001b[43m,\u001b[49m\u001b[43m \u001b[49m\u001b[43mcollection_type\u001b[49m\u001b[38;5;241;43m=\u001b[39;49m\u001b[43mlink_json\u001b[49m\u001b[43m[\u001b[49m\u001b[38;5;124;43m'\u001b[39;49m\u001b[38;5;124;43mcollection\u001b[39;49m\u001b[38;5;124;43m'\u001b[39;49m\u001b[43m]\u001b[49m\u001b[43m)\u001b[49m\n\u001b[1;32m    643\u001b[0m \u001b[38;5;28;01melif\u001b[39;00m link_class \u001b[38;5;241m==\u001b[39m \u001b[38;5;124m'\u001b[39m\u001b[38;5;124mH5L_TYPE_SOFT\u001b[39m\u001b[38;5;124m'\u001b[39m:\n\u001b[1;32m    644\u001b[0m     h5path \u001b[38;5;241m=\u001b[39m link_json[\u001b[38;5;124m'\u001b[39m\u001b[38;5;124mh5path\u001b[39m\u001b[38;5;124m'\u001b[39m]\n",
      "File \u001b[0;32m~/.local/lib/python3.12/site-packages/h5pyd/_hl/group.py:592\u001b[0m, in \u001b[0;36mGroup.getObjByUuid\u001b[0;34m(self, uuid, collection_type)\u001b[0m\n\u001b[1;32m    590\u001b[0m     req \u001b[38;5;241m=\u001b[39m \u001b[38;5;124mf\u001b[39m\u001b[38;5;124m\"\u001b[39m\u001b[38;5;124m/\u001b[39m\u001b[38;5;132;01m{\u001b[39;00mcollection_type\u001b[38;5;132;01m}\u001b[39;00m\u001b[38;5;124m/\u001b[39m\u001b[38;5;132;01m{\u001b[39;00muuid\u001b[38;5;132;01m}\u001b[39;00m\u001b[38;5;124m\"\u001b[39m\n\u001b[1;32m    591\u001b[0m     \u001b[38;5;66;03m# make server request\u001b[39;00m\n\u001b[0;32m--> 592\u001b[0m     obj_json \u001b[38;5;241m=\u001b[39m \u001b[38;5;28;43mself\u001b[39;49m\u001b[38;5;241;43m.\u001b[39;49m\u001b[43mGET\u001b[49m\u001b[43m(\u001b[49m\u001b[43mreq\u001b[49m\u001b[43m)\u001b[49m\n\u001b[1;32m    594\u001b[0m \u001b[38;5;28;01mif\u001b[39;00m collection_type \u001b[38;5;241m==\u001b[39m \u001b[38;5;124m'\u001b[39m\u001b[38;5;124mgroups\u001b[39m\u001b[38;5;124m'\u001b[39m:\n\u001b[1;32m    595\u001b[0m     tgt \u001b[38;5;241m=\u001b[39m Group(GroupID(\u001b[38;5;28mself\u001b[39m, obj_json))\n",
      "File \u001b[0;32m~/.local/lib/python3.12/site-packages/h5pyd/_hl/base.py:962\u001b[0m, in \u001b[0;36mHLObject.GET\u001b[0;34m(self, req, params, use_cache, format)\u001b[0m\n\u001b[1;32m    959\u001b[0m \u001b[38;5;66;03m# This should be the default - but explictly set anyway\u001b[39;00m\n\u001b[1;32m    960\u001b[0m headers \u001b[38;5;241m=\u001b[39m {\u001b[38;5;124m\"\u001b[39m\u001b[38;5;124mAccept-Encoding\u001b[39m\u001b[38;5;124m\"\u001b[39m: \u001b[38;5;124m\"\u001b[39m\u001b[38;5;124mdeflate, gzip\u001b[39m\u001b[38;5;124m\"\u001b[39m}\n\u001b[0;32m--> 962\u001b[0m rsp \u001b[38;5;241m=\u001b[39m \u001b[38;5;28;43mself\u001b[39;49m\u001b[38;5;241;43m.\u001b[39;49m\u001b[43mid\u001b[49m\u001b[38;5;241;43m.\u001b[39;49m\u001b[43m_http_conn\u001b[49m\u001b[38;5;241;43m.\u001b[39;49m\u001b[43mGET\u001b[49m\u001b[43m(\u001b[49m\u001b[43mreq\u001b[49m\u001b[43m,\u001b[49m\u001b[43m \u001b[49m\u001b[43mparams\u001b[49m\u001b[38;5;241;43m=\u001b[39;49m\u001b[43mparams\u001b[49m\u001b[43m,\u001b[49m\u001b[43m \u001b[49m\u001b[43mheaders\u001b[49m\u001b[38;5;241;43m=\u001b[39;49m\u001b[43mheaders\u001b[49m\u001b[43m,\u001b[49m\u001b[43m \u001b[49m\u001b[38;5;28;43mformat\u001b[39;49m\u001b[38;5;241;43m=\u001b[39;49m\u001b[38;5;28;43mformat\u001b[39;49m\u001b[43m,\u001b[49m\u001b[43m \u001b[49m\u001b[43muse_cache\u001b[49m\u001b[38;5;241;43m=\u001b[39;49m\u001b[43muse_cache\u001b[49m\u001b[43m)\u001b[49m\n\u001b[1;32m    963\u001b[0m \u001b[38;5;28;01mif\u001b[39;00m rsp\u001b[38;5;241m.\u001b[39mstatus_code \u001b[38;5;241m!=\u001b[39m \u001b[38;5;241m200\u001b[39m:\n\u001b[1;32m    964\u001b[0m     \u001b[38;5;28mself\u001b[39m\u001b[38;5;241m.\u001b[39mlog\u001b[38;5;241m.\u001b[39minfo(\u001b[38;5;124mf\u001b[39m\u001b[38;5;124m\"\u001b[39m\u001b[38;5;124mGot response: \u001b[39m\u001b[38;5;132;01m{\u001b[39;00mrsp\u001b[38;5;241m.\u001b[39mstatus_code\u001b[38;5;132;01m}\u001b[39;00m\u001b[38;5;124m\"\u001b[39m)\n",
      "File \u001b[0;32m~/.local/lib/python3.12/site-packages/h5pyd/_hl/httpconn.py:474\u001b[0m, in \u001b[0;36mHttpConn.GET\u001b[0;34m(self, req, format, params, headers, use_cache)\u001b[0m\n\u001b[1;32m    472\u001b[0m \u001b[38;5;28;01melse\u001b[39;00m:\n\u001b[1;32m    473\u001b[0m     stream \u001b[38;5;241m=\u001b[39m \u001b[38;5;28;01mTrue\u001b[39;00m\n\u001b[0;32m--> 474\u001b[0m rsp \u001b[38;5;241m=\u001b[39m \u001b[43ms\u001b[49m\u001b[38;5;241;43m.\u001b[39;49m\u001b[43mget\u001b[49m\u001b[43m(\u001b[49m\n\u001b[1;32m    475\u001b[0m \u001b[43m    \u001b[49m\u001b[38;5;28;43mself\u001b[39;49m\u001b[38;5;241;43m.\u001b[39;49m\u001b[43m_endpoint\u001b[49m\u001b[43m \u001b[49m\u001b[38;5;241;43m+\u001b[39;49m\u001b[43m \u001b[49m\u001b[43mreq\u001b[49m\u001b[43m,\u001b[49m\n\u001b[1;32m    476\u001b[0m \u001b[43m    \u001b[49m\u001b[43mparams\u001b[49m\u001b[38;5;241;43m=\u001b[39;49m\u001b[43mparams\u001b[49m\u001b[43m,\u001b[49m\n\u001b[1;32m    477\u001b[0m \u001b[43m    \u001b[49m\u001b[43mheaders\u001b[49m\u001b[38;5;241;43m=\u001b[39;49m\u001b[43mheaders\u001b[49m\u001b[43m,\u001b[49m\n\u001b[1;32m    478\u001b[0m \u001b[43m    \u001b[49m\u001b[43mstream\u001b[49m\u001b[38;5;241;43m=\u001b[39;49m\u001b[43mstream\u001b[49m\u001b[43m,\u001b[49m\n\u001b[1;32m    479\u001b[0m \u001b[43m    \u001b[49m\u001b[43mtimeout\u001b[49m\u001b[38;5;241;43m=\u001b[39;49m\u001b[38;5;28;43mself\u001b[39;49m\u001b[38;5;241;43m.\u001b[39;49m\u001b[43m_timeout\u001b[49m\u001b[43m,\u001b[49m\n\u001b[1;32m    480\u001b[0m \u001b[43m    \u001b[49m\u001b[43mverify\u001b[49m\u001b[38;5;241;43m=\u001b[39;49m\u001b[38;5;28;43mself\u001b[39;49m\u001b[38;5;241;43m.\u001b[39;49m\u001b[43mverifyCert\u001b[49m\u001b[43m(\u001b[49m\u001b[43m)\u001b[49m\u001b[43m,\u001b[49m\n\u001b[1;32m    481\u001b[0m \u001b[43m\u001b[49m\u001b[43m)\u001b[49m\n\u001b[1;32m    482\u001b[0m \u001b[38;5;28mself\u001b[39m\u001b[38;5;241m.\u001b[39mlog\u001b[38;5;241m.\u001b[39minfo(\u001b[38;5;124m\"\u001b[39m\u001b[38;5;124mstatus: \u001b[39m\u001b[38;5;132;01m{}\u001b[39;00m\u001b[38;5;124m\"\u001b[39m\u001b[38;5;241m.\u001b[39mformat(rsp\u001b[38;5;241m.\u001b[39mstatus_code))\n\u001b[1;32m    483\u001b[0m \u001b[38;5;28;01mif\u001b[39;00m \u001b[38;5;28mself\u001b[39m\u001b[38;5;241m.\u001b[39m_hsds:\n",
      "File \u001b[0;32m~/miniconda3/envs/TabNet_env/lib/python3.12/site-packages/requests/sessions.py:602\u001b[0m, in \u001b[0;36mSession.get\u001b[0;34m(self, url, **kwargs)\u001b[0m\n\u001b[1;32m    594\u001b[0m \u001b[38;5;250m\u001b[39m\u001b[38;5;124mr\u001b[39m\u001b[38;5;124;03m\"\"\"Sends a GET request. Returns :class:`Response` object.\u001b[39;00m\n\u001b[1;32m    595\u001b[0m \n\u001b[1;32m    596\u001b[0m \u001b[38;5;124;03m:param url: URL for the new :class:`Request` object.\u001b[39;00m\n\u001b[1;32m    597\u001b[0m \u001b[38;5;124;03m:param \\*\\*kwargs: Optional arguments that ``request`` takes.\u001b[39;00m\n\u001b[1;32m    598\u001b[0m \u001b[38;5;124;03m:rtype: requests.Response\u001b[39;00m\n\u001b[1;32m    599\u001b[0m \u001b[38;5;124;03m\"\"\"\u001b[39;00m\n\u001b[1;32m    601\u001b[0m kwargs\u001b[38;5;241m.\u001b[39msetdefault(\u001b[38;5;124m\"\u001b[39m\u001b[38;5;124mallow_redirects\u001b[39m\u001b[38;5;124m\"\u001b[39m, \u001b[38;5;28;01mTrue\u001b[39;00m)\n\u001b[0;32m--> 602\u001b[0m \u001b[38;5;28;01mreturn\u001b[39;00m \u001b[38;5;28;43mself\u001b[39;49m\u001b[38;5;241;43m.\u001b[39;49m\u001b[43mrequest\u001b[49m\u001b[43m(\u001b[49m\u001b[38;5;124;43m\"\u001b[39;49m\u001b[38;5;124;43mGET\u001b[39;49m\u001b[38;5;124;43m\"\u001b[39;49m\u001b[43m,\u001b[49m\u001b[43m \u001b[49m\u001b[43murl\u001b[49m\u001b[43m,\u001b[49m\u001b[43m \u001b[49m\u001b[38;5;241;43m*\u001b[39;49m\u001b[38;5;241;43m*\u001b[39;49m\u001b[43mkwargs\u001b[49m\u001b[43m)\u001b[49m\n",
      "File \u001b[0;32m~/miniconda3/envs/TabNet_env/lib/python3.12/site-packages/requests/sessions.py:589\u001b[0m, in \u001b[0;36mSession.request\u001b[0;34m(self, method, url, params, data, headers, cookies, files, auth, timeout, allow_redirects, proxies, hooks, stream, verify, cert, json)\u001b[0m\n\u001b[1;32m    584\u001b[0m send_kwargs \u001b[38;5;241m=\u001b[39m {\n\u001b[1;32m    585\u001b[0m     \u001b[38;5;124m\"\u001b[39m\u001b[38;5;124mtimeout\u001b[39m\u001b[38;5;124m\"\u001b[39m: timeout,\n\u001b[1;32m    586\u001b[0m     \u001b[38;5;124m\"\u001b[39m\u001b[38;5;124mallow_redirects\u001b[39m\u001b[38;5;124m\"\u001b[39m: allow_redirects,\n\u001b[1;32m    587\u001b[0m }\n\u001b[1;32m    588\u001b[0m send_kwargs\u001b[38;5;241m.\u001b[39mupdate(settings)\n\u001b[0;32m--> 589\u001b[0m resp \u001b[38;5;241m=\u001b[39m \u001b[38;5;28;43mself\u001b[39;49m\u001b[38;5;241;43m.\u001b[39;49m\u001b[43msend\u001b[49m\u001b[43m(\u001b[49m\u001b[43mprep\u001b[49m\u001b[43m,\u001b[49m\u001b[43m \u001b[49m\u001b[38;5;241;43m*\u001b[39;49m\u001b[38;5;241;43m*\u001b[39;49m\u001b[43msend_kwargs\u001b[49m\u001b[43m)\u001b[49m\n\u001b[1;32m    591\u001b[0m \u001b[38;5;28;01mreturn\u001b[39;00m resp\n",
      "File \u001b[0;32m~/miniconda3/envs/TabNet_env/lib/python3.12/site-packages/requests/sessions.py:703\u001b[0m, in \u001b[0;36mSession.send\u001b[0;34m(self, request, **kwargs)\u001b[0m\n\u001b[1;32m    700\u001b[0m start \u001b[38;5;241m=\u001b[39m preferred_clock()\n\u001b[1;32m    702\u001b[0m \u001b[38;5;66;03m# Send the request\u001b[39;00m\n\u001b[0;32m--> 703\u001b[0m r \u001b[38;5;241m=\u001b[39m \u001b[43madapter\u001b[49m\u001b[38;5;241;43m.\u001b[39;49m\u001b[43msend\u001b[49m\u001b[43m(\u001b[49m\u001b[43mrequest\u001b[49m\u001b[43m,\u001b[49m\u001b[43m \u001b[49m\u001b[38;5;241;43m*\u001b[39;49m\u001b[38;5;241;43m*\u001b[39;49m\u001b[43mkwargs\u001b[49m\u001b[43m)\u001b[49m\n\u001b[1;32m    705\u001b[0m \u001b[38;5;66;03m# Total elapsed time of the request (approximately)\u001b[39;00m\n\u001b[1;32m    706\u001b[0m elapsed \u001b[38;5;241m=\u001b[39m preferred_clock() \u001b[38;5;241m-\u001b[39m start\n",
      "File \u001b[0;32m~/miniconda3/envs/TabNet_env/lib/python3.12/site-packages/requests/adapters.py:667\u001b[0m, in \u001b[0;36mHTTPAdapter.send\u001b[0;34m(self, request, stream, timeout, verify, cert, proxies)\u001b[0m\n\u001b[1;32m    664\u001b[0m     timeout \u001b[38;5;241m=\u001b[39m TimeoutSauce(connect\u001b[38;5;241m=\u001b[39mtimeout, read\u001b[38;5;241m=\u001b[39mtimeout)\n\u001b[1;32m    666\u001b[0m \u001b[38;5;28;01mtry\u001b[39;00m:\n\u001b[0;32m--> 667\u001b[0m     resp \u001b[38;5;241m=\u001b[39m \u001b[43mconn\u001b[49m\u001b[38;5;241;43m.\u001b[39;49m\u001b[43murlopen\u001b[49m\u001b[43m(\u001b[49m\n\u001b[1;32m    668\u001b[0m \u001b[43m        \u001b[49m\u001b[43mmethod\u001b[49m\u001b[38;5;241;43m=\u001b[39;49m\u001b[43mrequest\u001b[49m\u001b[38;5;241;43m.\u001b[39;49m\u001b[43mmethod\u001b[49m\u001b[43m,\u001b[49m\n\u001b[1;32m    669\u001b[0m \u001b[43m        \u001b[49m\u001b[43murl\u001b[49m\u001b[38;5;241;43m=\u001b[39;49m\u001b[43murl\u001b[49m\u001b[43m,\u001b[49m\n\u001b[1;32m    670\u001b[0m \u001b[43m        \u001b[49m\u001b[43mbody\u001b[49m\u001b[38;5;241;43m=\u001b[39;49m\u001b[43mrequest\u001b[49m\u001b[38;5;241;43m.\u001b[39;49m\u001b[43mbody\u001b[49m\u001b[43m,\u001b[49m\n\u001b[1;32m    671\u001b[0m \u001b[43m        \u001b[49m\u001b[43mheaders\u001b[49m\u001b[38;5;241;43m=\u001b[39;49m\u001b[43mrequest\u001b[49m\u001b[38;5;241;43m.\u001b[39;49m\u001b[43mheaders\u001b[49m\u001b[43m,\u001b[49m\n\u001b[1;32m    672\u001b[0m \u001b[43m        \u001b[49m\u001b[43mredirect\u001b[49m\u001b[38;5;241;43m=\u001b[39;49m\u001b[38;5;28;43;01mFalse\u001b[39;49;00m\u001b[43m,\u001b[49m\n\u001b[1;32m    673\u001b[0m \u001b[43m        \u001b[49m\u001b[43massert_same_host\u001b[49m\u001b[38;5;241;43m=\u001b[39;49m\u001b[38;5;28;43;01mFalse\u001b[39;49;00m\u001b[43m,\u001b[49m\n\u001b[1;32m    674\u001b[0m \u001b[43m        \u001b[49m\u001b[43mpreload_content\u001b[49m\u001b[38;5;241;43m=\u001b[39;49m\u001b[38;5;28;43;01mFalse\u001b[39;49;00m\u001b[43m,\u001b[49m\n\u001b[1;32m    675\u001b[0m \u001b[43m        \u001b[49m\u001b[43mdecode_content\u001b[49m\u001b[38;5;241;43m=\u001b[39;49m\u001b[38;5;28;43;01mFalse\u001b[39;49;00m\u001b[43m,\u001b[49m\n\u001b[1;32m    676\u001b[0m \u001b[43m        \u001b[49m\u001b[43mretries\u001b[49m\u001b[38;5;241;43m=\u001b[39;49m\u001b[38;5;28;43mself\u001b[39;49m\u001b[38;5;241;43m.\u001b[39;49m\u001b[43mmax_retries\u001b[49m\u001b[43m,\u001b[49m\n\u001b[1;32m    677\u001b[0m \u001b[43m        \u001b[49m\u001b[43mtimeout\u001b[49m\u001b[38;5;241;43m=\u001b[39;49m\u001b[43mtimeout\u001b[49m\u001b[43m,\u001b[49m\n\u001b[1;32m    678\u001b[0m \u001b[43m        \u001b[49m\u001b[43mchunked\u001b[49m\u001b[38;5;241;43m=\u001b[39;49m\u001b[43mchunked\u001b[49m\u001b[43m,\u001b[49m\n\u001b[1;32m    679\u001b[0m \u001b[43m    \u001b[49m\u001b[43m)\u001b[49m\n\u001b[1;32m    681\u001b[0m \u001b[38;5;28;01mexcept\u001b[39;00m (ProtocolError, \u001b[38;5;167;01mOSError\u001b[39;00m) \u001b[38;5;28;01mas\u001b[39;00m err:\n\u001b[1;32m    682\u001b[0m     \u001b[38;5;28;01mraise\u001b[39;00m \u001b[38;5;167;01mConnectionError\u001b[39;00m(err, request\u001b[38;5;241m=\u001b[39mrequest)\n",
      "File \u001b[0;32m~/miniconda3/envs/TabNet_env/lib/python3.12/site-packages/urllib3/connectionpool.py:789\u001b[0m, in \u001b[0;36mHTTPConnectionPool.urlopen\u001b[0;34m(self, method, url, body, headers, retries, redirect, assert_same_host, timeout, pool_timeout, release_conn, chunked, body_pos, preload_content, decode_content, **response_kw)\u001b[0m\n\u001b[1;32m    786\u001b[0m response_conn \u001b[38;5;241m=\u001b[39m conn \u001b[38;5;28;01mif\u001b[39;00m \u001b[38;5;129;01mnot\u001b[39;00m release_conn \u001b[38;5;28;01melse\u001b[39;00m \u001b[38;5;28;01mNone\u001b[39;00m\n\u001b[1;32m    788\u001b[0m \u001b[38;5;66;03m# Make the request on the HTTPConnection object\u001b[39;00m\n\u001b[0;32m--> 789\u001b[0m response \u001b[38;5;241m=\u001b[39m \u001b[38;5;28;43mself\u001b[39;49m\u001b[38;5;241;43m.\u001b[39;49m\u001b[43m_make_request\u001b[49m\u001b[43m(\u001b[49m\n\u001b[1;32m    790\u001b[0m \u001b[43m    \u001b[49m\u001b[43mconn\u001b[49m\u001b[43m,\u001b[49m\n\u001b[1;32m    791\u001b[0m \u001b[43m    \u001b[49m\u001b[43mmethod\u001b[49m\u001b[43m,\u001b[49m\n\u001b[1;32m    792\u001b[0m \u001b[43m    \u001b[49m\u001b[43murl\u001b[49m\u001b[43m,\u001b[49m\n\u001b[1;32m    793\u001b[0m \u001b[43m    \u001b[49m\u001b[43mtimeout\u001b[49m\u001b[38;5;241;43m=\u001b[39;49m\u001b[43mtimeout_obj\u001b[49m\u001b[43m,\u001b[49m\n\u001b[1;32m    794\u001b[0m \u001b[43m    \u001b[49m\u001b[43mbody\u001b[49m\u001b[38;5;241;43m=\u001b[39;49m\u001b[43mbody\u001b[49m\u001b[43m,\u001b[49m\n\u001b[1;32m    795\u001b[0m \u001b[43m    \u001b[49m\u001b[43mheaders\u001b[49m\u001b[38;5;241;43m=\u001b[39;49m\u001b[43mheaders\u001b[49m\u001b[43m,\u001b[49m\n\u001b[1;32m    796\u001b[0m \u001b[43m    \u001b[49m\u001b[43mchunked\u001b[49m\u001b[38;5;241;43m=\u001b[39;49m\u001b[43mchunked\u001b[49m\u001b[43m,\u001b[49m\n\u001b[1;32m    797\u001b[0m \u001b[43m    \u001b[49m\u001b[43mretries\u001b[49m\u001b[38;5;241;43m=\u001b[39;49m\u001b[43mretries\u001b[49m\u001b[43m,\u001b[49m\n\u001b[1;32m    798\u001b[0m \u001b[43m    \u001b[49m\u001b[43mresponse_conn\u001b[49m\u001b[38;5;241;43m=\u001b[39;49m\u001b[43mresponse_conn\u001b[49m\u001b[43m,\u001b[49m\n\u001b[1;32m    799\u001b[0m \u001b[43m    \u001b[49m\u001b[43mpreload_content\u001b[49m\u001b[38;5;241;43m=\u001b[39;49m\u001b[43mpreload_content\u001b[49m\u001b[43m,\u001b[49m\n\u001b[1;32m    800\u001b[0m \u001b[43m    \u001b[49m\u001b[43mdecode_content\u001b[49m\u001b[38;5;241;43m=\u001b[39;49m\u001b[43mdecode_content\u001b[49m\u001b[43m,\u001b[49m\n\u001b[1;32m    801\u001b[0m \u001b[43m    \u001b[49m\u001b[38;5;241;43m*\u001b[39;49m\u001b[38;5;241;43m*\u001b[39;49m\u001b[43mresponse_kw\u001b[49m\u001b[43m,\u001b[49m\n\u001b[1;32m    802\u001b[0m \u001b[43m\u001b[49m\u001b[43m)\u001b[49m\n\u001b[1;32m    804\u001b[0m \u001b[38;5;66;03m# Everything went great!\u001b[39;00m\n\u001b[1;32m    805\u001b[0m clean_exit \u001b[38;5;241m=\u001b[39m \u001b[38;5;28;01mTrue\u001b[39;00m\n",
      "File \u001b[0;32m~/miniconda3/envs/TabNet_env/lib/python3.12/site-packages/urllib3/connectionpool.py:536\u001b[0m, in \u001b[0;36mHTTPConnectionPool._make_request\u001b[0;34m(self, conn, method, url, body, headers, retries, timeout, chunked, response_conn, preload_content, decode_content, enforce_content_length)\u001b[0m\n\u001b[1;32m    534\u001b[0m \u001b[38;5;66;03m# Receive the response from the server\u001b[39;00m\n\u001b[1;32m    535\u001b[0m \u001b[38;5;28;01mtry\u001b[39;00m:\n\u001b[0;32m--> 536\u001b[0m     response \u001b[38;5;241m=\u001b[39m \u001b[43mconn\u001b[49m\u001b[38;5;241;43m.\u001b[39;49m\u001b[43mgetresponse\u001b[49m\u001b[43m(\u001b[49m\u001b[43m)\u001b[49m\n\u001b[1;32m    537\u001b[0m \u001b[38;5;28;01mexcept\u001b[39;00m (BaseSSLError, \u001b[38;5;167;01mOSError\u001b[39;00m) \u001b[38;5;28;01mas\u001b[39;00m e:\n\u001b[1;32m    538\u001b[0m     \u001b[38;5;28mself\u001b[39m\u001b[38;5;241m.\u001b[39m_raise_timeout(err\u001b[38;5;241m=\u001b[39me, url\u001b[38;5;241m=\u001b[39murl, timeout_value\u001b[38;5;241m=\u001b[39mread_timeout)\n",
      "File \u001b[0;32m~/miniconda3/envs/TabNet_env/lib/python3.12/site-packages/urllib3/connection.py:507\u001b[0m, in \u001b[0;36mHTTPConnection.getresponse\u001b[0;34m(self)\u001b[0m\n\u001b[1;32m    504\u001b[0m \u001b[38;5;28;01mfrom\u001b[39;00m \u001b[38;5;21;01m.\u001b[39;00m\u001b[38;5;21;01mresponse\u001b[39;00m \u001b[38;5;28;01mimport\u001b[39;00m HTTPResponse\n\u001b[1;32m    506\u001b[0m \u001b[38;5;66;03m# Get the response from http.client.HTTPConnection\u001b[39;00m\n\u001b[0;32m--> 507\u001b[0m httplib_response \u001b[38;5;241m=\u001b[39m \u001b[38;5;28;43msuper\u001b[39;49m\u001b[43m(\u001b[49m\u001b[43m)\u001b[49m\u001b[38;5;241;43m.\u001b[39;49m\u001b[43mgetresponse\u001b[49m\u001b[43m(\u001b[49m\u001b[43m)\u001b[49m\n\u001b[1;32m    509\u001b[0m \u001b[38;5;28;01mtry\u001b[39;00m:\n\u001b[1;32m    510\u001b[0m     assert_header_parsing(httplib_response\u001b[38;5;241m.\u001b[39mmsg)\n",
      "File \u001b[0;32m~/miniconda3/envs/TabNet_env/lib/python3.12/http/client.py:1428\u001b[0m, in \u001b[0;36mHTTPConnection.getresponse\u001b[0;34m(self)\u001b[0m\n\u001b[1;32m   1426\u001b[0m \u001b[38;5;28;01mtry\u001b[39;00m:\n\u001b[1;32m   1427\u001b[0m     \u001b[38;5;28;01mtry\u001b[39;00m:\n\u001b[0;32m-> 1428\u001b[0m         \u001b[43mresponse\u001b[49m\u001b[38;5;241;43m.\u001b[39;49m\u001b[43mbegin\u001b[49m\u001b[43m(\u001b[49m\u001b[43m)\u001b[49m\n\u001b[1;32m   1429\u001b[0m     \u001b[38;5;28;01mexcept\u001b[39;00m \u001b[38;5;167;01mConnectionError\u001b[39;00m:\n\u001b[1;32m   1430\u001b[0m         \u001b[38;5;28mself\u001b[39m\u001b[38;5;241m.\u001b[39mclose()\n",
      "File \u001b[0;32m~/miniconda3/envs/TabNet_env/lib/python3.12/http/client.py:331\u001b[0m, in \u001b[0;36mHTTPResponse.begin\u001b[0;34m(self)\u001b[0m\n\u001b[1;32m    329\u001b[0m \u001b[38;5;66;03m# read until we get a non-100 response\u001b[39;00m\n\u001b[1;32m    330\u001b[0m \u001b[38;5;28;01mwhile\u001b[39;00m \u001b[38;5;28;01mTrue\u001b[39;00m:\n\u001b[0;32m--> 331\u001b[0m     version, status, reason \u001b[38;5;241m=\u001b[39m \u001b[38;5;28;43mself\u001b[39;49m\u001b[38;5;241;43m.\u001b[39;49m\u001b[43m_read_status\u001b[49m\u001b[43m(\u001b[49m\u001b[43m)\u001b[49m\n\u001b[1;32m    332\u001b[0m     \u001b[38;5;28;01mif\u001b[39;00m status \u001b[38;5;241m!=\u001b[39m CONTINUE:\n\u001b[1;32m    333\u001b[0m         \u001b[38;5;28;01mbreak\u001b[39;00m\n",
      "File \u001b[0;32m~/miniconda3/envs/TabNet_env/lib/python3.12/http/client.py:292\u001b[0m, in \u001b[0;36mHTTPResponse._read_status\u001b[0;34m(self)\u001b[0m\n\u001b[1;32m    291\u001b[0m \u001b[38;5;28;01mdef\u001b[39;00m \u001b[38;5;21m_read_status\u001b[39m(\u001b[38;5;28mself\u001b[39m):\n\u001b[0;32m--> 292\u001b[0m     line \u001b[38;5;241m=\u001b[39m \u001b[38;5;28mstr\u001b[39m(\u001b[38;5;28;43mself\u001b[39;49m\u001b[38;5;241;43m.\u001b[39;49m\u001b[43mfp\u001b[49m\u001b[38;5;241;43m.\u001b[39;49m\u001b[43mreadline\u001b[49m\u001b[43m(\u001b[49m\u001b[43m_MAXLINE\u001b[49m\u001b[43m \u001b[49m\u001b[38;5;241;43m+\u001b[39;49m\u001b[43m \u001b[49m\u001b[38;5;241;43m1\u001b[39;49m\u001b[43m)\u001b[49m, \u001b[38;5;124m\"\u001b[39m\u001b[38;5;124miso-8859-1\u001b[39m\u001b[38;5;124m\"\u001b[39m)\n\u001b[1;32m    293\u001b[0m     \u001b[38;5;28;01mif\u001b[39;00m \u001b[38;5;28mlen\u001b[39m(line) \u001b[38;5;241m>\u001b[39m _MAXLINE:\n\u001b[1;32m    294\u001b[0m         \u001b[38;5;28;01mraise\u001b[39;00m LineTooLong(\u001b[38;5;124m\"\u001b[39m\u001b[38;5;124mstatus line\u001b[39m\u001b[38;5;124m\"\u001b[39m)\n",
      "File \u001b[0;32m~/miniconda3/envs/TabNet_env/lib/python3.12/socket.py:720\u001b[0m, in \u001b[0;36mSocketIO.readinto\u001b[0;34m(self, b)\u001b[0m\n\u001b[1;32m    718\u001b[0m \u001b[38;5;28;01mwhile\u001b[39;00m \u001b[38;5;28;01mTrue\u001b[39;00m:\n\u001b[1;32m    719\u001b[0m     \u001b[38;5;28;01mtry\u001b[39;00m:\n\u001b[0;32m--> 720\u001b[0m         \u001b[38;5;28;01mreturn\u001b[39;00m \u001b[38;5;28;43mself\u001b[39;49m\u001b[38;5;241;43m.\u001b[39;49m\u001b[43m_sock\u001b[49m\u001b[38;5;241;43m.\u001b[39;49m\u001b[43mrecv_into\u001b[49m\u001b[43m(\u001b[49m\u001b[43mb\u001b[49m\u001b[43m)\u001b[49m\n\u001b[1;32m    721\u001b[0m     \u001b[38;5;28;01mexcept\u001b[39;00m timeout:\n\u001b[1;32m    722\u001b[0m         \u001b[38;5;28mself\u001b[39m\u001b[38;5;241m.\u001b[39m_timeout_occurred \u001b[38;5;241m=\u001b[39m \u001b[38;5;28;01mTrue\u001b[39;00m\n",
      "\u001b[0;31mKeyboardInterrupt\u001b[0m: "
     ]
    }
   ],
   "source": [
    "# Define the height levels and ensure the output directory exists\n",
    "height_levels = [10] + list(range(20, 301, 20)) + [400, 500]\n",
    "profiler_stations = pd.read_csv('data/profiler_locations.csv',usecols=[0,3,4])\n",
    "for index, row in profiler_stations.iterrows():\n",
    "    try:    # Attempt to process each station and handle any errors that occur\n",
    "        lon = row['lon [degrees]']\n",
    "        lat = row['lat [degrees]']\n",
    "        station_id = row['stid']\n",
    "\n",
    "        output_dir = f'data/NOW23/{station_id}'\n",
    "        os.makedirs(output_dir, exist_ok=True)\n",
    "        \n",
    "        for year in range(2000, 2020+1):  # Adjust the range for additional years if needed\n",
    "\n",
    "            target_file = f'{output_dir}/{year}.csv'\n",
    "            if os.path.exists(target_file):\n",
    "                print(f'Skipping existing file for station {station_id}')\n",
    "                continue\n",
    "            \n",
    "            location_found = False\n",
    "            dfs = []\n",
    "\n",
    "            # First file path\n",
    "            file_path = f'/nrel/wtk/great_lakes-5min/Great_Lakes_{year}.h5'\n",
    "            \n",
    "            try:\n",
    "                with ResourceX(file_path, hsds=True) as res:\n",
    "                    for height in height_levels:\n",
    "                        var_name = f'windspeed_{height}m'\n",
    "                        df = res.get_lat_lon_df(var_name, (lat, lon))\n",
    "                        df = df.rename(columns={df.columns[0]: f'{height}m'})\n",
    "                        dfs.append(df)\n",
    "                        location_found = True\n",
    "            \n",
    "            except Exception as e:\n",
    "                print(f'Error with file {file_path}: {e}')\n",
    "                \n",
    "                # Attempt second file path\n",
    "                alt_file_path = f'/nrel/wtk/mid_atlantic-5min/Mid_Atlantic_{year}.h5'\n",
    "                try:\n",
    "                    with ResourceX(alt_file_path, hsds=True) as res:\n",
    "                        for height in height_levels:\n",
    "                            var_name = f'windspeed_{height}m'\n",
    "                            df = res.get_lat_lon_df(var_name, (lat, lon))\n",
    "                            df = df.rename(columns={df.columns[0]: f'{height}m'})\n",
    "                            dfs.append(df)\n",
    "                            location_found = True\n",
    "\n",
    "                except Exception as e:\n",
    "                    print(f'Error with file {alt_file_path}: {e}')\n",
    "\n",
    "            # Concatenate all dataframes along the column axis if any data is present\n",
    "            if dfs:\n",
    "                combined_df = pd.concat(dfs, axis=1, join='inner')\n",
    "                # save the combined dataframe to a CSV file\n",
    "                combined_df.to_csv(target_file)\n",
    "                print(f'Processed year {year} for station {station_id}')\n",
    "\n",
    "            else:\n",
    "                print(f'No data available for station {station_id} in {year}')\n",
    "\n",
    "            # Break the year loop if location not found in either file path\n",
    "            if not location_found:\n",
    "                print(f'No data found for station {station_id} in {year}. Skipping to next station.')\n",
    "                break\n",
    "\n",
    "    except Exception as e:\n",
    "        print(f'Error processing station {station_id}: {e}')\n",
    "        continue"
   ]
  },
  {
   "cell_type": "code",
   "execution_count": null,
   "metadata": {},
   "outputs": [],
   "source": []
  }
 ],
 "metadata": {
  "kernelspec": {
   "display_name": "TabNet_env",
   "language": "python",
   "name": "python3"
  },
  "language_info": {
   "codemirror_mode": {
    "name": "ipython",
    "version": 3
   },
   "file_extension": ".py",
   "mimetype": "text/x-python",
   "name": "python",
   "nbconvert_exporter": "python",
   "pygments_lexer": "ipython3",
   "version": "3.12.7"
  }
 },
 "nbformat": 4,
 "nbformat_minor": 2
}
